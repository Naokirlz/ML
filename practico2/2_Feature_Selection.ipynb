{
  "cells": [
    {
      "cell_type": "markdown",
      "metadata": {
        "id": "a3AAb-0IWaXM"
      },
      "source": [
        "#Práctico 2: Feature Selection"
      ]
    },
    {
      "cell_type": "markdown",
      "metadata": {
        "id": "kClHqs3bg_af"
      },
      "source": [
        "##Librerías"
      ]
    },
    {
      "cell_type": "code",
      "execution_count": 61,
      "metadata": {
        "id": "dAcgkk7ZWaXO"
      },
      "outputs": [],
      "source": [
        "import numpy as np\n",
        "import pandas as pd\n",
        "import matplotlib as mpl\n",
        "import matplotlib.pyplot as plt\n",
        "import seaborn as sns\n",
        "from sklearn.preprocessing import MinMaxScaler, StandardScaler\n",
        "#from google.colab import drive, files"
      ]
    },
    {
      "cell_type": "markdown",
      "metadata": {
        "id": "ZQKBnK8UhVeT"
      },
      "source": [
        "##Carga de datos"
      ]
    },
    {
      "cell_type": "code",
      "execution_count": 62,
      "metadata": {
        "colab": {
          "base_uri": "https://localhost:8080/"
        },
        "id": "ZhpQKeeXXlXb",
        "outputId": "36323d09-39d8-4a79-8688-6245f16d7660"
      },
      "outputs": [],
      "source": [
        "#drive.mount('/content/drive', force_remount=True)\n",
        "\n",
        "df = pd.read_csv(\"eph2.txt\", sep = \",\")"
      ]
    },
    {
      "cell_type": "markdown",
      "metadata": {
        "id": "0QAk62IVhd-F"
      },
      "source": [
        "##Análisis"
      ]
    },
    {
      "cell_type": "code",
      "execution_count": 63,
      "metadata": {
        "colab": {
          "base_uri": "https://localhost:8080/"
        },
        "id": "SJ0woivLZkcZ",
        "outputId": "3843ac5b-2256-4246-8960-ecc41028e8c7"
      },
      "outputs": [
        {
          "data": {
            "text/plain": [
              "3516"
            ]
          },
          "execution_count": 63,
          "metadata": {},
          "output_type": "execute_result"
        }
      ],
      "source": [
        "len(df)"
      ]
    },
    {
      "cell_type": "code",
      "execution_count": 130,
      "metadata": {},
      "outputs": [
        {
          "data": {
            "text/plain": [
              "3"
            ]
          },
          "execution_count": 130,
          "metadata": {},
          "output_type": "execute_result"
        }
      ],
      "source": [
        "a = 1\n",
        "b = 2\n",
        "c = a + b\n",
        "c"
      ]
    },
    {
      "cell_type": "code",
      "execution_count": 126,
      "metadata": {
        "colab": {
          "base_uri": "https://localhost:8080/",
          "height": 363
        },
        "id": "wVdpMGsIWaXQ",
        "outputId": "26b9a543-3908-4fb0-b04d-75b918a702e7"
      },
      "outputs": [
        {
          "data": {
            "text/html": [
              "<div>\n",
              "<style scoped>\n",
              "    .dataframe tbody tr th:only-of-type {\n",
              "        vertical-align: middle;\n",
              "    }\n",
              "\n",
              "    .dataframe tbody tr th {\n",
              "        vertical-align: top;\n",
              "    }\n",
              "\n",
              "    .dataframe thead th {\n",
              "        text-align: right;\n",
              "    }\n",
              "</style>\n",
              "<table border=\"1\" class=\"dataframe\">\n",
              "  <thead>\n",
              "    <tr style=\"text-align: right;\">\n",
              "      <th></th>\n",
              "      <th>edad</th>\n",
              "      <th>sexo</th>\n",
              "      <th>alfabeto</th>\n",
              "      <th>sistema_salud</th>\n",
              "      <th>nivel_educativo</th>\n",
              "      <th>ocupacion_jerarquia</th>\n",
              "      <th>estado_civil</th>\n",
              "      <th>ingreso_15k</th>\n",
              "      <th>edad_cat</th>\n",
              "    </tr>\n",
              "  </thead>\n",
              "  <tbody>\n",
              "    <tr>\n",
              "      <th>0</th>\n",
              "      <td>23.0</td>\n",
              "      <td>hombre</td>\n",
              "      <td>Si</td>\n",
              "      <td>Obra social (incluye PAMI)</td>\n",
              "      <td>Secundaria Completa</td>\n",
              "      <td>Director</td>\n",
              "      <td>3</td>\n",
              "      <td>no</td>\n",
              "      <td>(14.999, 34.0]</td>\n",
              "    </tr>\n",
              "    <tr>\n",
              "      <th>1</th>\n",
              "      <td>58.0</td>\n",
              "      <td>hombre</td>\n",
              "      <td>Si</td>\n",
              "      <td>Obra social (incluye PAMI)</td>\n",
              "      <td>Superior Universitaria Completa</td>\n",
              "      <td>Cuenta propia</td>\n",
              "      <td>1</td>\n",
              "      <td>si</td>\n",
              "      <td>(55.0, 95.0]</td>\n",
              "    </tr>\n",
              "    <tr>\n",
              "      <th>2</th>\n",
              "      <td>27.0</td>\n",
              "      <td>mujer</td>\n",
              "      <td>Si</td>\n",
              "      <td>No paga ni le descuentan</td>\n",
              "      <td>Secundaria Completa</td>\n",
              "      <td>Cuenta propia</td>\n",
              "      <td>4</td>\n",
              "      <td>no</td>\n",
              "      <td>(14.999, 34.0]</td>\n",
              "    </tr>\n",
              "    <tr>\n",
              "      <th>3</th>\n",
              "      <td>32.0</td>\n",
              "      <td>hombre</td>\n",
              "      <td>Si</td>\n",
              "      <td>No paga ni le descuentan</td>\n",
              "      <td>Secundaria Incompleta</td>\n",
              "      <td>Cuenta propia</td>\n",
              "      <td>2</td>\n",
              "      <td>no</td>\n",
              "      <td>(14.999, 34.0]</td>\n",
              "    </tr>\n",
              "    <tr>\n",
              "      <th>4</th>\n",
              "      <td>65.0</td>\n",
              "      <td>hombre</td>\n",
              "      <td>Si</td>\n",
              "      <td>Obra social (incluye PAMI)</td>\n",
              "      <td>Primaria Completa</td>\n",
              "      <td>Cuenta propia</td>\n",
              "      <td>1</td>\n",
              "      <td>no</td>\n",
              "      <td>(55.0, 95.0]</td>\n",
              "    </tr>\n",
              "    <tr>\n",
              "      <th>5</th>\n",
              "      <td>28.0</td>\n",
              "      <td>mujer</td>\n",
              "      <td>Si</td>\n",
              "      <td>Obra social (incluye PAMI)</td>\n",
              "      <td>Superior Universitaria Incompleta</td>\n",
              "      <td>Cuenta propia</td>\n",
              "      <td>4</td>\n",
              "      <td>no</td>\n",
              "      <td>(14.999, 34.0]</td>\n",
              "    </tr>\n",
              "    <tr>\n",
              "      <th>6</th>\n",
              "      <td>40.0</td>\n",
              "      <td>hombre</td>\n",
              "      <td>No</td>\n",
              "      <td>No paga ni le descuentan</td>\n",
              "      <td>Primaria Incompleta(incluye educación especial)</td>\n",
              "      <td>Cuenta propia</td>\n",
              "      <td>4</td>\n",
              "      <td>no</td>\n",
              "      <td>(34.0, 44.0]</td>\n",
              "    </tr>\n",
              "    <tr>\n",
              "      <th>7</th>\n",
              "      <td>43.0</td>\n",
              "      <td>mujer</td>\n",
              "      <td>No</td>\n",
              "      <td>No paga ni le descuentan</td>\n",
              "      <td>Primaria Incompleta(incluye educación especial)</td>\n",
              "      <td>Cuenta propia</td>\n",
              "      <td>4</td>\n",
              "      <td>no</td>\n",
              "      <td>(34.0, 44.0]</td>\n",
              "    </tr>\n",
              "    <tr>\n",
              "      <th>8</th>\n",
              "      <td>42.0</td>\n",
              "      <td>hombre</td>\n",
              "      <td>Si</td>\n",
              "      <td>No paga ni le descuentan</td>\n",
              "      <td>Secundaria Incompleta</td>\n",
              "      <td>Cuenta propia</td>\n",
              "      <td>4</td>\n",
              "      <td>no</td>\n",
              "      <td>(34.0, 44.0]</td>\n",
              "    </tr>\n",
              "    <tr>\n",
              "      <th>9</th>\n",
              "      <td>NaN</td>\n",
              "      <td>mujer</td>\n",
              "      <td>Si</td>\n",
              "      <td>Obra social (incluye PAMI)</td>\n",
              "      <td>Superior Universitaria Completa</td>\n",
              "      <td>Cuenta propia</td>\n",
              "      <td>2</td>\n",
              "      <td>no</td>\n",
              "      <td>NaN</td>\n",
              "    </tr>\n",
              "  </tbody>\n",
              "</table>\n",
              "</div>"
            ],
            "text/plain": [
              "   edad    sexo alfabeto               sistema_salud  \\\n",
              "0  23.0  hombre       Si  Obra social (incluye PAMI)   \n",
              "1  58.0  hombre       Si  Obra social (incluye PAMI)   \n",
              "2  27.0   mujer       Si    No paga ni le descuentan   \n",
              "3  32.0  hombre       Si    No paga ni le descuentan   \n",
              "4  65.0  hombre       Si  Obra social (incluye PAMI)   \n",
              "5  28.0   mujer       Si  Obra social (incluye PAMI)   \n",
              "6  40.0  hombre       No    No paga ni le descuentan   \n",
              "7  43.0   mujer       No    No paga ni le descuentan   \n",
              "8  42.0  hombre       Si    No paga ni le descuentan   \n",
              "9   NaN   mujer       Si  Obra social (incluye PAMI)   \n",
              "\n",
              "                                   nivel_educativo ocupacion_jerarquia  \\\n",
              "0                              Secundaria Completa            Director   \n",
              "1                  Superior Universitaria Completa       Cuenta propia   \n",
              "2                              Secundaria Completa       Cuenta propia   \n",
              "3                            Secundaria Incompleta       Cuenta propia   \n",
              "4                                Primaria Completa       Cuenta propia   \n",
              "5                Superior Universitaria Incompleta       Cuenta propia   \n",
              "6  Primaria Incompleta(incluye educación especial)       Cuenta propia   \n",
              "7  Primaria Incompleta(incluye educación especial)       Cuenta propia   \n",
              "8                            Secundaria Incompleta       Cuenta propia   \n",
              "9                  Superior Universitaria Completa       Cuenta propia   \n",
              "\n",
              "  estado_civil ingreso_15k        edad_cat  \n",
              "0            3          no  (14.999, 34.0]  \n",
              "1            1          si    (55.0, 95.0]  \n",
              "2            4          no  (14.999, 34.0]  \n",
              "3            2          no  (14.999, 34.0]  \n",
              "4            1          no    (55.0, 95.0]  \n",
              "5            4          no  (14.999, 34.0]  \n",
              "6            4          no    (34.0, 44.0]  \n",
              "7            4          no    (34.0, 44.0]  \n",
              "8            4          no    (34.0, 44.0]  \n",
              "9            2          no             NaN  "
            ]
          },
          "execution_count": 126,
          "metadata": {},
          "output_type": "execute_result"
        }
      ],
      "source": [
        "df.head(10)"
      ]
    },
    {
      "cell_type": "code",
      "execution_count": 65,
      "metadata": {
        "colab": {
          "base_uri": "https://localhost:8080/"
        },
        "id": "b3U2khinq3Vp",
        "outputId": "4891eca5-ed29-424a-a45a-ae2d7e407bb2"
      },
      "outputs": [
        {
          "name": "stdout",
          "output_type": "stream",
          "text": [
            "<class 'pandas.core.frame.DataFrame'>\n",
            "RangeIndex: 3516 entries, 0 to 3515\n",
            "Data columns (total 8 columns):\n",
            " #   Column               Non-Null Count  Dtype  \n",
            "---  ------               --------------  -----  \n",
            " 0   edad                 3382 non-null   float64\n",
            " 1   sexo                 3516 non-null   object \n",
            " 2   alfabeto             3516 non-null   object \n",
            " 3   sistema_salud        3516 non-null   object \n",
            " 4   nivel_educativo      3450 non-null   object \n",
            " 5   ocupacion_jerarquia  3516 non-null   object \n",
            " 6   estado_civil         3516 non-null   int64  \n",
            " 7   ingreso_15k          3516 non-null   object \n",
            "dtypes: float64(1), int64(1), object(6)\n",
            "memory usage: 219.9+ KB\n"
          ]
        }
      ],
      "source": [
        "df.info()"
      ]
    },
    {
      "cell_type": "code",
      "execution_count": 66,
      "metadata": {
        "id": "aAuHIgsyrEnd"
      },
      "outputs": [],
      "source": [
        "df.estado_civil = df.estado_civil.astype('str')"
      ]
    },
    {
      "cell_type": "code",
      "execution_count": 67,
      "metadata": {
        "colab": {
          "base_uri": "https://localhost:8080/"
        },
        "id": "x2reXBD5rOK2",
        "outputId": "214f9af2-b437-44e8-d531-98f4b533eedd"
      },
      "outputs": [
        {
          "name": "stdout",
          "output_type": "stream",
          "text": [
            "<class 'pandas.core.frame.DataFrame'>\n",
            "RangeIndex: 3516 entries, 0 to 3515\n",
            "Data columns (total 8 columns):\n",
            " #   Column               Non-Null Count  Dtype  \n",
            "---  ------               --------------  -----  \n",
            " 0   edad                 3382 non-null   float64\n",
            " 1   sexo                 3516 non-null   object \n",
            " 2   alfabeto             3516 non-null   object \n",
            " 3   sistema_salud        3516 non-null   object \n",
            " 4   nivel_educativo      3450 non-null   object \n",
            " 5   ocupacion_jerarquia  3516 non-null   object \n",
            " 6   estado_civil         3516 non-null   object \n",
            " 7   ingreso_15k          3516 non-null   object \n",
            "dtypes: float64(1), object(7)\n",
            "memory usage: 219.9+ KB\n"
          ]
        }
      ],
      "source": [
        "df.info()"
      ]
    },
    {
      "cell_type": "code",
      "execution_count": 68,
      "metadata": {
        "colab": {
          "base_uri": "https://localhost:8080/",
          "height": 300
        },
        "id": "ZOiMGmLrq5kA",
        "outputId": "6375fc7b-e6cf-4bf6-c7cb-6cf6fd8a2585"
      },
      "outputs": [
        {
          "data": {
            "text/html": [
              "<div>\n",
              "<style scoped>\n",
              "    .dataframe tbody tr th:only-of-type {\n",
              "        vertical-align: middle;\n",
              "    }\n",
              "\n",
              "    .dataframe tbody tr th {\n",
              "        vertical-align: top;\n",
              "    }\n",
              "\n",
              "    .dataframe thead th {\n",
              "        text-align: right;\n",
              "    }\n",
              "</style>\n",
              "<table border=\"1\" class=\"dataframe\">\n",
              "  <thead>\n",
              "    <tr style=\"text-align: right;\">\n",
              "      <th></th>\n",
              "      <th>edad</th>\n",
              "    </tr>\n",
              "  </thead>\n",
              "  <tbody>\n",
              "    <tr>\n",
              "      <th>count</th>\n",
              "      <td>3382.000000</td>\n",
              "    </tr>\n",
              "    <tr>\n",
              "      <th>mean</th>\n",
              "      <td>44.795387</td>\n",
              "    </tr>\n",
              "    <tr>\n",
              "      <th>std</th>\n",
              "      <td>13.400287</td>\n",
              "    </tr>\n",
              "    <tr>\n",
              "      <th>min</th>\n",
              "      <td>15.000000</td>\n",
              "    </tr>\n",
              "    <tr>\n",
              "      <th>25%</th>\n",
              "      <td>34.000000</td>\n",
              "    </tr>\n",
              "    <tr>\n",
              "      <th>50%</th>\n",
              "      <td>44.000000</td>\n",
              "    </tr>\n",
              "    <tr>\n",
              "      <th>75%</th>\n",
              "      <td>55.000000</td>\n",
              "    </tr>\n",
              "    <tr>\n",
              "      <th>max</th>\n",
              "      <td>95.000000</td>\n",
              "    </tr>\n",
              "  </tbody>\n",
              "</table>\n",
              "</div>"
            ],
            "text/plain": [
              "              edad\n",
              "count  3382.000000\n",
              "mean     44.795387\n",
              "std      13.400287\n",
              "min      15.000000\n",
              "25%      34.000000\n",
              "50%      44.000000\n",
              "75%      55.000000\n",
              "max      95.000000"
            ]
          },
          "execution_count": 68,
          "metadata": {},
          "output_type": "execute_result"
        }
      ],
      "source": [
        "df.describe()"
      ]
    },
    {
      "cell_type": "markdown",
      "metadata": {
        "id": "r37JMyEJq8GY"
      },
      "source": [
        "### Valores nulos"
      ]
    },
    {
      "cell_type": "markdown",
      "metadata": {
        "id": "SsWmKWXNiT8P"
      },
      "source": [
        "La función .isnull() nos indica con variables booleanas si hay valores nulos en cada celda del DataFrame."
      ]
    },
    {
      "cell_type": "code",
      "execution_count": 69,
      "metadata": {
        "colab": {
          "base_uri": "https://localhost:8080/",
          "height": 424
        },
        "id": "dqX6dPRrcByF",
        "outputId": "169ef961-6459-427e-bf2c-90d4696d5d63"
      },
      "outputs": [
        {
          "data": {
            "text/html": [
              "<div>\n",
              "<style scoped>\n",
              "    .dataframe tbody tr th:only-of-type {\n",
              "        vertical-align: middle;\n",
              "    }\n",
              "\n",
              "    .dataframe tbody tr th {\n",
              "        vertical-align: top;\n",
              "    }\n",
              "\n",
              "    .dataframe thead th {\n",
              "        text-align: right;\n",
              "    }\n",
              "</style>\n",
              "<table border=\"1\" class=\"dataframe\">\n",
              "  <thead>\n",
              "    <tr style=\"text-align: right;\">\n",
              "      <th></th>\n",
              "      <th>edad</th>\n",
              "      <th>sexo</th>\n",
              "      <th>alfabeto</th>\n",
              "      <th>sistema_salud</th>\n",
              "      <th>nivel_educativo</th>\n",
              "      <th>ocupacion_jerarquia</th>\n",
              "      <th>estado_civil</th>\n",
              "      <th>ingreso_15k</th>\n",
              "    </tr>\n",
              "  </thead>\n",
              "  <tbody>\n",
              "    <tr>\n",
              "      <th>0</th>\n",
              "      <td>False</td>\n",
              "      <td>False</td>\n",
              "      <td>False</td>\n",
              "      <td>False</td>\n",
              "      <td>False</td>\n",
              "      <td>False</td>\n",
              "      <td>False</td>\n",
              "      <td>False</td>\n",
              "    </tr>\n",
              "    <tr>\n",
              "      <th>1</th>\n",
              "      <td>False</td>\n",
              "      <td>False</td>\n",
              "      <td>False</td>\n",
              "      <td>False</td>\n",
              "      <td>False</td>\n",
              "      <td>False</td>\n",
              "      <td>False</td>\n",
              "      <td>False</td>\n",
              "    </tr>\n",
              "    <tr>\n",
              "      <th>2</th>\n",
              "      <td>False</td>\n",
              "      <td>False</td>\n",
              "      <td>False</td>\n",
              "      <td>False</td>\n",
              "      <td>False</td>\n",
              "      <td>False</td>\n",
              "      <td>False</td>\n",
              "      <td>False</td>\n",
              "    </tr>\n",
              "    <tr>\n",
              "      <th>3</th>\n",
              "      <td>False</td>\n",
              "      <td>False</td>\n",
              "      <td>False</td>\n",
              "      <td>False</td>\n",
              "      <td>False</td>\n",
              "      <td>False</td>\n",
              "      <td>False</td>\n",
              "      <td>False</td>\n",
              "    </tr>\n",
              "    <tr>\n",
              "      <th>4</th>\n",
              "      <td>False</td>\n",
              "      <td>False</td>\n",
              "      <td>False</td>\n",
              "      <td>False</td>\n",
              "      <td>False</td>\n",
              "      <td>False</td>\n",
              "      <td>False</td>\n",
              "      <td>False</td>\n",
              "    </tr>\n",
              "    <tr>\n",
              "      <th>...</th>\n",
              "      <td>...</td>\n",
              "      <td>...</td>\n",
              "      <td>...</td>\n",
              "      <td>...</td>\n",
              "      <td>...</td>\n",
              "      <td>...</td>\n",
              "      <td>...</td>\n",
              "      <td>...</td>\n",
              "    </tr>\n",
              "    <tr>\n",
              "      <th>3511</th>\n",
              "      <td>False</td>\n",
              "      <td>False</td>\n",
              "      <td>False</td>\n",
              "      <td>False</td>\n",
              "      <td>False</td>\n",
              "      <td>False</td>\n",
              "      <td>False</td>\n",
              "      <td>False</td>\n",
              "    </tr>\n",
              "    <tr>\n",
              "      <th>3512</th>\n",
              "      <td>False</td>\n",
              "      <td>False</td>\n",
              "      <td>False</td>\n",
              "      <td>False</td>\n",
              "      <td>False</td>\n",
              "      <td>False</td>\n",
              "      <td>False</td>\n",
              "      <td>False</td>\n",
              "    </tr>\n",
              "    <tr>\n",
              "      <th>3513</th>\n",
              "      <td>False</td>\n",
              "      <td>False</td>\n",
              "      <td>False</td>\n",
              "      <td>False</td>\n",
              "      <td>False</td>\n",
              "      <td>False</td>\n",
              "      <td>False</td>\n",
              "      <td>False</td>\n",
              "    </tr>\n",
              "    <tr>\n",
              "      <th>3514</th>\n",
              "      <td>False</td>\n",
              "      <td>False</td>\n",
              "      <td>False</td>\n",
              "      <td>False</td>\n",
              "      <td>False</td>\n",
              "      <td>False</td>\n",
              "      <td>False</td>\n",
              "      <td>False</td>\n",
              "    </tr>\n",
              "    <tr>\n",
              "      <th>3515</th>\n",
              "      <td>False</td>\n",
              "      <td>False</td>\n",
              "      <td>False</td>\n",
              "      <td>False</td>\n",
              "      <td>False</td>\n",
              "      <td>False</td>\n",
              "      <td>False</td>\n",
              "      <td>False</td>\n",
              "    </tr>\n",
              "  </tbody>\n",
              "</table>\n",
              "<p>3516 rows × 8 columns</p>\n",
              "</div>"
            ],
            "text/plain": [
              "       edad   sexo  alfabeto  sistema_salud  nivel_educativo  \\\n",
              "0     False  False     False          False            False   \n",
              "1     False  False     False          False            False   \n",
              "2     False  False     False          False            False   \n",
              "3     False  False     False          False            False   \n",
              "4     False  False     False          False            False   \n",
              "...     ...    ...       ...            ...              ...   \n",
              "3511  False  False     False          False            False   \n",
              "3512  False  False     False          False            False   \n",
              "3513  False  False     False          False            False   \n",
              "3514  False  False     False          False            False   \n",
              "3515  False  False     False          False            False   \n",
              "\n",
              "      ocupacion_jerarquia  estado_civil  ingreso_15k  \n",
              "0                   False         False        False  \n",
              "1                   False         False        False  \n",
              "2                   False         False        False  \n",
              "3                   False         False        False  \n",
              "4                   False         False        False  \n",
              "...                   ...           ...          ...  \n",
              "3511                False         False        False  \n",
              "3512                False         False        False  \n",
              "3513                False         False        False  \n",
              "3514                False         False        False  \n",
              "3515                False         False        False  \n",
              "\n",
              "[3516 rows x 8 columns]"
            ]
          },
          "execution_count": 69,
          "metadata": {},
          "output_type": "execute_result"
        }
      ],
      "source": [
        "df_aux = df.isnull()\n",
        "df_aux"
      ]
    },
    {
      "cell_type": "markdown",
      "metadata": {
        "id": "zYUaCVJdjs8t"
      },
      "source": [
        "Como vimos la clase pasada, si queremos revisar cual es la proporción de valores nulos"
      ]
    },
    {
      "cell_type": "code",
      "execution_count": 70,
      "metadata": {
        "colab": {
          "base_uri": "https://localhost:8080/"
        },
        "id": "34MxQHu8jmUr",
        "outputId": "9ebf770d-99c3-49ce-e9cf-ef1b1120421b"
      },
      "outputs": [
        {
          "data": {
            "text/plain": [
              "edad                   0.038111\n",
              "sexo                   0.000000\n",
              "alfabeto               0.000000\n",
              "sistema_salud          0.000000\n",
              "nivel_educativo        0.018771\n",
              "ocupacion_jerarquia    0.000000\n",
              "estado_civil           0.000000\n",
              "ingreso_15k            0.000000\n",
              "dtype: float64"
            ]
          },
          "execution_count": 70,
          "metadata": {},
          "output_type": "execute_result"
        }
      ],
      "source": [
        "df.isnull().mean()"
      ]
    },
    {
      "cell_type": "markdown",
      "metadata": {
        "id": "kh2GiBJSjzlp"
      },
      "source": [
        "La función any nos da False si y solo si todos los elementos del eje son False. Por defecto axis=0.\n",
        "\n",
        "![image.png](data:image/png;base64,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)"
      ]
    },
    {
      "cell_type": "markdown",
      "metadata": {
        "id": "lpm1LyWBki3o"
      },
      "source": [
        "Con axis=0, los índices son los de las columnas.  \n",
        "Con axis=1, los índices son los de las  filas."
      ]
    },
    {
      "cell_type": "markdown",
      "metadata": {
        "id": "h22LK13Zk9Hr"
      },
      "source": [
        "####Ejercicio 1:  \n",
        "¿Qué nos indican las siguientes 2 celdas de código?"
      ]
    },
    {
      "cell_type": "code",
      "execution_count": 71,
      "metadata": {
        "colab": {
          "base_uri": "https://localhost:8080/"
        },
        "id": "6LPlCal2jkBR",
        "outputId": "ffc3bdf0-eb75-4d11-bf76-b31e1d006ced"
      },
      "outputs": [
        {
          "data": {
            "text/plain": [
              "edad                    True\n",
              "sexo                   False\n",
              "alfabeto               False\n",
              "sistema_salud          False\n",
              "nivel_educativo         True\n",
              "ocupacion_jerarquia    False\n",
              "estado_civil           False\n",
              "ingreso_15k            False\n",
              "dtype: bool"
            ]
          },
          "execution_count": 71,
          "metadata": {},
          "output_type": "execute_result"
        }
      ],
      "source": [
        "df_aux.any()"
      ]
    },
    {
      "cell_type": "code",
      "execution_count": 72,
      "metadata": {
        "colab": {
          "base_uri": "https://localhost:8080/"
        },
        "id": "_zauoTUGlXzz",
        "outputId": "fbe98ead-d79b-4d89-c7c9-1792a8a503c7"
      },
      "outputs": [
        {
          "data": {
            "text/plain": [
              "0       False\n",
              "1       False\n",
              "2       False\n",
              "3       False\n",
              "4       False\n",
              "        ...  \n",
              "3511    False\n",
              "3512    False\n",
              "3513    False\n",
              "3514    False\n",
              "3515    False\n",
              "Length: 3516, dtype: bool"
            ]
          },
          "execution_count": 72,
          "metadata": {},
          "output_type": "execute_result"
        }
      ],
      "source": [
        "df_aux.any(axis=1)"
      ]
    },
    {
      "cell_type": "markdown",
      "metadata": {
        "id": "o_nPrIc3ldi7"
      },
      "source": [
        "####Ejercicio 2:  \n",
        "Escriba el código necesario para mostrar solo aquellas líneas que contienen nulos, utilizando la función .any()"
      ]
    },
    {
      "cell_type": "code",
      "execution_count": 73,
      "metadata": {
        "id": "knUcMih3iW1l"
      },
      "outputs": [],
      "source": [
        "# Su código"
      ]
    },
    {
      "cell_type": "markdown",
      "metadata": {
        "id": "Mdlqc5AnmCzN"
      },
      "source": [
        "Una forma de recorrer el DataFrame"
      ]
    },
    {
      "cell_type": "code",
      "execution_count": 74,
      "metadata": {
        "colab": {
          "base_uri": "https://localhost:8080/"
        },
        "id": "qQ3Bz6sjtNEA",
        "outputId": "285ecade-0957-4984-faf8-9eb5abfd6761"
      },
      "outputs": [
        {
          "data": {
            "text/plain": [
              "134"
            ]
          },
          "execution_count": 74,
          "metadata": {},
          "output_type": "execute_result"
        }
      ],
      "source": [
        "count = 0\n",
        "for i in range(len(df)):\n",
        "  if df_aux.iloc[i].edad:\n",
        "    count += 1\n",
        "count"
      ]
    },
    {
      "cell_type": "code",
      "execution_count": 75,
      "metadata": {
        "colab": {
          "base_uri": "https://localhost:8080/",
          "height": 378
        },
        "id": "N04qsMTycAdA",
        "outputId": "b4f1f44a-57cb-44e5-e4cc-0e83a02affd1"
      },
      "outputs": [
        {
          "data": {
            "text/plain": [
              "<AxesSubplot:>"
            ]
          },
          "execution_count": 75,
          "metadata": {},
          "output_type": "execute_result"
        },
        {
          "data": {
            "image/png": "[encoded data removed]",
            "text/plain": [
              "<Figure size 432x288 with 2 Axes>"
            ]
          },
          "metadata": {
            "needs_background": "light"
          },
          "output_type": "display_data"
        }
      ],
      "source": [
        "sns.heatmap(df.isnull())"
      ]
    },
    {
      "cell_type": "markdown",
      "metadata": {
        "id": "Q8VMF_e1ndec"
      },
      "source": [
        "Un poco de sintaxis de Seaborn:  \n",
        "\n",
        "* Quitamos los valores de los labels en el eje vertical\n",
        "* Mantenemos los lables en el eje horizontal\n",
        "* Quitamos la barra de colores"
      ]
    },
    {
      "cell_type": "code",
      "execution_count": 76,
      "metadata": {
        "colab": {
          "base_uri": "https://localhost:8080/",
          "height": 373
        },
        "id": "zGMsUxHeWaXR",
        "outputId": "cca96e3c-2326-45be-854b-e4dec20aeae6"
      },
      "outputs": [
        {
          "data": {
            "text/plain": [
              "<AxesSubplot:>"
            ]
          },
          "execution_count": 76,
          "metadata": {},
          "output_type": "execute_result"
        },
        {
          "data": {
            "image/png": "[encoded data removed]",
            "text/plain": [
              "<Figure size 432x288 with 1 Axes>"
            ]
          },
          "metadata": {
            "needs_background": "light"
          },
          "output_type": "display_data"
        }
      ],
      "source": [
        "sns.heatmap(df.isnull(), cbar = False, yticklabels = False, xticklabels = True)"
      ]
    },
    {
      "cell_type": "markdown",
      "metadata": {
        "id": "g6HF0D7YnxXW"
      },
      "source": [
        "La idea del Heatmap es remplazar números con colores, para poder comprender visualmente agrupamientos, patrones, etc."
      ]
    },
    {
      "cell_type": "markdown",
      "metadata": {
        "id": "VNKbc6ran7Iu"
      },
      "source": [
        "####Ejercicio 3:  \n",
        "Remplace los valores nulos de edad (determine si es mejor utilizar la media o la mediana) y guárdelo en una nueva columna llamada \"edad_2\"."
      ]
    },
    {
      "cell_type": "code",
      "execution_count": 77,
      "metadata": {
        "id": "D4RyiOApoS4L"
      },
      "outputs": [],
      "source": [
        "# Su código"
      ]
    },
    {
      "cell_type": "markdown",
      "metadata": {
        "id": "sjQvjz3DotL1"
      },
      "source": [
        "Mostrar edades remplazadas"
      ]
    },
    {
      "cell_type": "code",
      "execution_count": 78,
      "metadata": {
        "colab": {
          "base_uri": "https://localhost:8080/",
          "height": 424
        },
        "id": "P9vTdzsTou1b",
        "outputId": "0590e5d4-64c4-4658-e4ab-cbcd8f7538e8"
      },
      "outputs": [
        {
          "data": {
            "text/html": [
              "<div>\n",
              "<style scoped>\n",
              "    .dataframe tbody tr th:only-of-type {\n",
              "        vertical-align: middle;\n",
              "    }\n",
              "\n",
              "    .dataframe tbody tr th {\n",
              "        vertical-align: top;\n",
              "    }\n",
              "\n",
              "    .dataframe thead th {\n",
              "        text-align: right;\n",
              "    }\n",
              "</style>\n",
              "<table border=\"1\" class=\"dataframe\">\n",
              "  <thead>\n",
              "    <tr style=\"text-align: right;\">\n",
              "      <th></th>\n",
              "      <th>edad</th>\n",
              "      <th>sexo</th>\n",
              "      <th>alfabeto</th>\n",
              "      <th>sistema_salud</th>\n",
              "      <th>nivel_educativo</th>\n",
              "      <th>ocupacion_jerarquia</th>\n",
              "      <th>estado_civil</th>\n",
              "      <th>ingreso_15k</th>\n",
              "    </tr>\n",
              "  </thead>\n",
              "  <tbody>\n",
              "    <tr>\n",
              "      <th>9</th>\n",
              "      <td>NaN</td>\n",
              "      <td>mujer</td>\n",
              "      <td>Si</td>\n",
              "      <td>Obra social (incluye PAMI)</td>\n",
              "      <td>Superior Universitaria Completa</td>\n",
              "      <td>Cuenta propia</td>\n",
              "      <td>2</td>\n",
              "      <td>no</td>\n",
              "    </tr>\n",
              "    <tr>\n",
              "      <th>48</th>\n",
              "      <td>NaN</td>\n",
              "      <td>hombre</td>\n",
              "      <td>Si</td>\n",
              "      <td>Obra social (incluye PAMI)</td>\n",
              "      <td>Superior Universitaria Incompleta</td>\n",
              "      <td>Cuenta propia</td>\n",
              "      <td>2</td>\n",
              "      <td>si</td>\n",
              "    </tr>\n",
              "    <tr>\n",
              "      <th>76</th>\n",
              "      <td>NaN</td>\n",
              "      <td>mujer</td>\n",
              "      <td>Si</td>\n",
              "      <td>Obra social (incluye PAMI)</td>\n",
              "      <td>Superior Universitaria Completa</td>\n",
              "      <td>Director</td>\n",
              "      <td>1</td>\n",
              "      <td>no</td>\n",
              "    </tr>\n",
              "    <tr>\n",
              "      <th>139</th>\n",
              "      <td>NaN</td>\n",
              "      <td>mujer</td>\n",
              "      <td>Si</td>\n",
              "      <td>Obra social (incluye PAMI)</td>\n",
              "      <td>Superior Universitaria Incompleta</td>\n",
              "      <td>Cuenta propia</td>\n",
              "      <td>2</td>\n",
              "      <td>no</td>\n",
              "    </tr>\n",
              "    <tr>\n",
              "      <th>210</th>\n",
              "      <td>NaN</td>\n",
              "      <td>hombre</td>\n",
              "      <td>Si</td>\n",
              "      <td>No paga ni le descuentan</td>\n",
              "      <td>Superior Universitaria Completa</td>\n",
              "      <td>Cuenta propia</td>\n",
              "      <td>2</td>\n",
              "      <td>no</td>\n",
              "    </tr>\n",
              "    <tr>\n",
              "      <th>...</th>\n",
              "      <td>...</td>\n",
              "      <td>...</td>\n",
              "      <td>...</td>\n",
              "      <td>...</td>\n",
              "      <td>...</td>\n",
              "      <td>...</td>\n",
              "      <td>...</td>\n",
              "      <td>...</td>\n",
              "    </tr>\n",
              "    <tr>\n",
              "      <th>3343</th>\n",
              "      <td>NaN</td>\n",
              "      <td>hombre</td>\n",
              "      <td>Si</td>\n",
              "      <td>Obra social (incluye PAMI)</td>\n",
              "      <td>Primaria Completa</td>\n",
              "      <td>Cuenta propia</td>\n",
              "      <td>2</td>\n",
              "      <td>no</td>\n",
              "    </tr>\n",
              "    <tr>\n",
              "      <th>3439</th>\n",
              "      <td>NaN</td>\n",
              "      <td>hombre</td>\n",
              "      <td>Si</td>\n",
              "      <td>No paga ni le descuentan</td>\n",
              "      <td>Superior Universitaria Completa</td>\n",
              "      <td>Cuenta propia</td>\n",
              "      <td>1</td>\n",
              "      <td>no</td>\n",
              "    </tr>\n",
              "    <tr>\n",
              "      <th>3448</th>\n",
              "      <td>NaN</td>\n",
              "      <td>hombre</td>\n",
              "      <td>Si</td>\n",
              "      <td>No paga ni le descuentan</td>\n",
              "      <td>Primaria Completa</td>\n",
              "      <td>Cuenta propia</td>\n",
              "      <td>1</td>\n",
              "      <td>no</td>\n",
              "    </tr>\n",
              "    <tr>\n",
              "      <th>3467</th>\n",
              "      <td>NaN</td>\n",
              "      <td>hombre</td>\n",
              "      <td>Si</td>\n",
              "      <td>Obra social (incluye PAMI)</td>\n",
              "      <td>Superior Universitaria Completa</td>\n",
              "      <td>Cuenta propia</td>\n",
              "      <td>1</td>\n",
              "      <td>si</td>\n",
              "    </tr>\n",
              "    <tr>\n",
              "      <th>3472</th>\n",
              "      <td>NaN</td>\n",
              "      <td>hombre</td>\n",
              "      <td>Si</td>\n",
              "      <td>No paga ni le descuentan</td>\n",
              "      <td>Secundaria Incompleta</td>\n",
              "      <td>Cuenta propia</td>\n",
              "      <td>4</td>\n",
              "      <td>si</td>\n",
              "    </tr>\n",
              "  </tbody>\n",
              "</table>\n",
              "<p>134 rows × 8 columns</p>\n",
              "</div>"
            ],
            "text/plain": [
              "      edad    sexo alfabeto               sistema_salud  \\\n",
              "9      NaN   mujer       Si  Obra social (incluye PAMI)   \n",
              "48     NaN  hombre       Si  Obra social (incluye PAMI)   \n",
              "76     NaN   mujer       Si  Obra social (incluye PAMI)   \n",
              "139    NaN   mujer       Si  Obra social (incluye PAMI)   \n",
              "210    NaN  hombre       Si    No paga ni le descuentan   \n",
              "...    ...     ...      ...                         ...   \n",
              "3343   NaN  hombre       Si  Obra social (incluye PAMI)   \n",
              "3439   NaN  hombre       Si    No paga ni le descuentan   \n",
              "3448   NaN  hombre       Si    No paga ni le descuentan   \n",
              "3467   NaN  hombre       Si  Obra social (incluye PAMI)   \n",
              "3472   NaN  hombre       Si    No paga ni le descuentan   \n",
              "\n",
              "                        nivel_educativo ocupacion_jerarquia estado_civil  \\\n",
              "9       Superior Universitaria Completa       Cuenta propia            2   \n",
              "48    Superior Universitaria Incompleta       Cuenta propia            2   \n",
              "76      Superior Universitaria Completa            Director            1   \n",
              "139   Superior Universitaria Incompleta       Cuenta propia            2   \n",
              "210     Superior Universitaria Completa       Cuenta propia            2   \n",
              "...                                 ...                 ...          ...   \n",
              "3343                  Primaria Completa       Cuenta propia            2   \n",
              "3439    Superior Universitaria Completa       Cuenta propia            1   \n",
              "3448                  Primaria Completa       Cuenta propia            1   \n",
              "3467    Superior Universitaria Completa       Cuenta propia            1   \n",
              "3472              Secundaria Incompleta       Cuenta propia            4   \n",
              "\n",
              "     ingreso_15k  \n",
              "9             no  \n",
              "48            si  \n",
              "76            no  \n",
              "139           no  \n",
              "210           no  \n",
              "...          ...  \n",
              "3343          no  \n",
              "3439          no  \n",
              "3448          no  \n",
              "3467          si  \n",
              "3472          si  \n",
              "\n",
              "[134 rows x 8 columns]"
            ]
          },
          "execution_count": 78,
          "metadata": {},
          "output_type": "execute_result"
        }
      ],
      "source": [
        "df[df.edad.isnull()]"
      ]
    },
    {
      "cell_type": "markdown",
      "metadata": {
        "id": "vl57kWFLpL33"
      },
      "source": [
        "Otro ejemplo utilizando fillna:  \n",
        "\n",
        "\n",
        "NumPy nos permite crear valores nulos  \n",
        "Vemos salto de línea en print"
      ]
    },
    {
      "cell_type": "code",
      "execution_count": 79,
      "metadata": {
        "colab": {
          "base_uri": "https://localhost:8080/"
        },
        "id": "Ba-FK9aogLC1",
        "outputId": "b14c52a9-25e2-4a28-8411-ceba0b916280"
      },
      "outputs": [
        {
          "name": "stdout",
          "output_type": "stream",
          "text": [
            "0    1.0\n",
            "1    NaN\n",
            "2    3.0\n",
            "3    4.0\n",
            "4    NaN\n",
            "5    7.0\n",
            "6    NaN\n",
            "7    9.0\n",
            "8    NaN\n",
            "dtype: float64 \n",
            "\n",
            "0    1.0\n",
            "1    0.0\n",
            "2    3.0\n",
            "3    4.0\n",
            "4    0.0\n",
            "5    7.0\n",
            "6    0.0\n",
            "7    9.0\n",
            "8    0.0\n",
            "dtype: float64\n"
          ]
        }
      ],
      "source": [
        "s = pd.Series([1, np.nan, 3, 4, np.nan, 7, np.nan, 9, np.nan])\n",
        "print(s, \"\\n\")\n",
        "s2 = s.fillna(0)\n",
        "print(s2)"
      ]
    },
    {
      "cell_type": "markdown",
      "metadata": {
        "id": "FNiLKnMBp2wY"
      },
      "source": [
        "Otro ejemplo utilizando .fillna():  \n",
        "\n",
        "Llenar los valores nulos con el ANTERIOR valor no nulo (se dice que los valores no nulos se han extendido hacia adelante)."
      ]
    },
    {
      "cell_type": "code",
      "execution_count": 80,
      "metadata": {
        "colab": {
          "base_uri": "https://localhost:8080/"
        },
        "id": "LWFO1oTlgjes",
        "outputId": "bf67b1b6-6bc8-45a7-bb48-8a150080ae64"
      },
      "outputs": [
        {
          "name": "stdout",
          "output_type": "stream",
          "text": [
            "0    1.0\n",
            "1    1.0\n",
            "2    3.0\n",
            "3    4.0\n",
            "4    4.0\n",
            "5    7.0\n",
            "6    7.0\n",
            "7    9.0\n",
            "8    9.0\n",
            "dtype: float64\n"
          ]
        }
      ],
      "source": [
        "s3 = s.fillna(method = \"ffill\")\n",
        "print(s3)"
      ]
    },
    {
      "cell_type": "markdown",
      "metadata": {
        "id": "j4Rkfv6wp9mQ"
      },
      "source": [
        "Otro ejemplo utilizando fillna:  \n",
        "\n",
        "Llenar los valores nulos con el SIGUIENTE valor no nulo (se dice que los valores no nulos se han extendido hacia atras).\n",
        "\n",
        "\n",
        "Nota: Si el ultimo valor es nulo, entonces quedara nulo, porque no existe valor siguiente no nulo con el cual rellenarlo."
      ]
    },
    {
      "cell_type": "code",
      "execution_count": 81,
      "metadata": {
        "colab": {
          "base_uri": "https://localhost:8080/"
        },
        "id": "MzR97kRMp88V",
        "outputId": "11904692-c167-40cf-c150-829c01757a3b"
      },
      "outputs": [
        {
          "name": "stdout",
          "output_type": "stream",
          "text": [
            "0    1.0\n",
            "1    3.0\n",
            "2    3.0\n",
            "3    4.0\n",
            "4    7.0\n",
            "5    7.0\n",
            "6    9.0\n",
            "7    9.0\n",
            "8    NaN\n",
            "dtype: float64\n"
          ]
        }
      ],
      "source": [
        "s4 = s.fillna(method = \"bfill\")\n",
        "print(s4)"
      ]
    },
    {
      "cell_type": "code",
      "execution_count": 82,
      "metadata": {
        "colab": {
          "base_uri": "https://localhost:8080/",
          "height": 175
        },
        "id": "LL1bpOCci3kB",
        "outputId": "77acaee6-1f36-4b7b-8ab4-4a9619476f94"
      },
      "outputs": [
        {
          "data": {
            "text/html": [
              "<div>\n",
              "<style scoped>\n",
              "    .dataframe tbody tr th:only-of-type {\n",
              "        vertical-align: middle;\n",
              "    }\n",
              "\n",
              "    .dataframe tbody tr th {\n",
              "        vertical-align: top;\n",
              "    }\n",
              "\n",
              "    .dataframe thead th {\n",
              "        text-align: right;\n",
              "    }\n",
              "</style>\n",
              "<table border=\"1\" class=\"dataframe\">\n",
              "  <thead>\n",
              "    <tr style=\"text-align: right;\">\n",
              "      <th></th>\n",
              "      <th>A</th>\n",
              "      <th>B</th>\n",
              "      <th>C</th>\n",
              "      <th>D</th>\n",
              "    </tr>\n",
              "  </thead>\n",
              "  <tbody>\n",
              "    <tr>\n",
              "      <th>Ene</th>\n",
              "      <td>1</td>\n",
              "      <td>3.0</td>\n",
              "      <td>3</td>\n",
              "      <td>NaN</td>\n",
              "    </tr>\n",
              "    <tr>\n",
              "      <th>Feb</th>\n",
              "      <td>5</td>\n",
              "      <td>4.0</td>\n",
              "      <td>7</td>\n",
              "      <td>2.0</td>\n",
              "    </tr>\n",
              "    <tr>\n",
              "      <th>Mar</th>\n",
              "      <td>4</td>\n",
              "      <td>1.0</td>\n",
              "      <td>2</td>\n",
              "      <td>2.0</td>\n",
              "    </tr>\n",
              "    <tr>\n",
              "      <th>Abr</th>\n",
              "      <td>7</td>\n",
              "      <td>NaN</td>\n",
              "      <td>6</td>\n",
              "      <td>3.0</td>\n",
              "    </tr>\n",
              "  </tbody>\n",
              "</table>\n",
              "</div>"
            ],
            "text/plain": [
              "     A    B  C    D\n",
              "Ene  1  3.0  3  NaN\n",
              "Feb  5  4.0  7  2.0\n",
              "Mar  4  1.0  2  2.0\n",
              "Abr  7  NaN  6  3.0"
            ]
          },
          "execution_count": 82,
          "metadata": {},
          "output_type": "execute_result"
        }
      ],
      "source": [
        "ventas = pd.DataFrame(\n",
        "    {\n",
        "        \"A\": [1, 5, 4, 7],\n",
        "        \"B\": [3, 4, 1, np.nan],\n",
        "        \"C\": [3, 7, 2, 6],\n",
        "        \"D\": [np.nan, 2, 2, 3]\n",
        "    },\n",
        "    index = [\"Ene\", \"Feb\", \"Mar\", \"Abr\"])\n",
        "\n",
        "ventas"
      ]
    },
    {
      "cell_type": "code",
      "execution_count": 83,
      "metadata": {
        "colab": {
          "base_uri": "https://localhost:8080/",
          "height": 175
        },
        "id": "QIlr5mkii9RW",
        "outputId": "235c39b6-e1b2-4986-bac4-e4be96f52d3f"
      },
      "outputs": [
        {
          "data": {
            "text/html": [
              "<div>\n",
              "<style scoped>\n",
              "    .dataframe tbody tr th:only-of-type {\n",
              "        vertical-align: middle;\n",
              "    }\n",
              "\n",
              "    .dataframe tbody tr th {\n",
              "        vertical-align: top;\n",
              "    }\n",
              "\n",
              "    .dataframe thead th {\n",
              "        text-align: right;\n",
              "    }\n",
              "</style>\n",
              "<table border=\"1\" class=\"dataframe\">\n",
              "  <thead>\n",
              "    <tr style=\"text-align: right;\">\n",
              "      <th></th>\n",
              "      <th>A</th>\n",
              "      <th>B</th>\n",
              "      <th>C</th>\n",
              "      <th>D</th>\n",
              "    </tr>\n",
              "  </thead>\n",
              "  <tbody>\n",
              "    <tr>\n",
              "      <th>Ene</th>\n",
              "      <td>1</td>\n",
              "      <td>3.0</td>\n",
              "      <td>3</td>\n",
              "      <td>NaN</td>\n",
              "    </tr>\n",
              "    <tr>\n",
              "      <th>Feb</th>\n",
              "      <td>5</td>\n",
              "      <td>4.0</td>\n",
              "      <td>7</td>\n",
              "      <td>2.0</td>\n",
              "    </tr>\n",
              "    <tr>\n",
              "      <th>Mar</th>\n",
              "      <td>4</td>\n",
              "      <td>1.0</td>\n",
              "      <td>2</td>\n",
              "      <td>2.0</td>\n",
              "    </tr>\n",
              "    <tr>\n",
              "      <th>Abr</th>\n",
              "      <td>7</td>\n",
              "      <td>1.0</td>\n",
              "      <td>6</td>\n",
              "      <td>3.0</td>\n",
              "    </tr>\n",
              "  </tbody>\n",
              "</table>\n",
              "</div>"
            ],
            "text/plain": [
              "     A    B  C    D\n",
              "Ene  1  3.0  3  NaN\n",
              "Feb  5  4.0  7  2.0\n",
              "Mar  4  1.0  2  2.0\n",
              "Abr  7  1.0  6  3.0"
            ]
          },
          "execution_count": 83,
          "metadata": {},
          "output_type": "execute_result"
        }
      ],
      "source": [
        "ventas2 = ventas.fillna(axis = 0, method = \"ffill\") # nos fijamos en filas\n",
        "ventas2"
      ]
    },
    {
      "cell_type": "markdown",
      "metadata": {
        "id": "HVLNCMSerjFK"
      },
      "source": [
        "####Ejercicio 4:  \n",
        "Utilizando .bfill(), rellene los valores nulos de ventas basándose en las columnas. Guarde los resultados en un nuevo DataFrame."
      ]
    },
    {
      "cell_type": "code",
      "execution_count": 84,
      "metadata": {
        "id": "dU180KnDkEad"
      },
      "outputs": [],
      "source": [
        "# Su código"
      ]
    },
    {
      "cell_type": "markdown",
      "metadata": {
        "id": "wO-FR92Lrh3r"
      },
      "source": [
        "Trabajando con nulos categóricos"
      ]
    },
    {
      "cell_type": "code",
      "execution_count": 85,
      "metadata": {
        "id": "lcIcXtwZWaXS"
      },
      "outputs": [],
      "source": [
        "df['nivel_educativo'] = df['nivel_educativo'].fillna(value = \"nulo\") "
      ]
    },
    {
      "cell_type": "markdown",
      "metadata": {
        "id": "ZZiB3sV4svIf"
      },
      "source": [
        "### Discretización\n",
        "\n",
        ".qcut() es una \"función de discretización basada en cuantiles\"  \n",
        "Esto significa que qcut intenta dividir los datos subyacentes en contenedores (bins) de igual tamaño  \n",
        "La función define los contenedores usando percentiles basados ​​en la distribución de los datos  "
      ]
    },
    {
      "cell_type": "code",
      "execution_count": 86,
      "metadata": {
        "id": "pnRpLNlFWaXT"
      },
      "outputs": [],
      "source": [
        "df['edad_cat'] = pd.qcut(df['edad'], q = 4)"
      ]
    },
    {
      "cell_type": "code",
      "execution_count": 87,
      "metadata": {
        "colab": {
          "base_uri": "https://localhost:8080/",
          "height": 424
        },
        "id": "3kjQ-bXZWaXT",
        "outputId": "4fa1073f-e37f-4e18-fe32-82188f966d39"
      },
      "outputs": [
        {
          "data": {
            "text/html": [
              "<div>\n",
              "<style scoped>\n",
              "    .dataframe tbody tr th:only-of-type {\n",
              "        vertical-align: middle;\n",
              "    }\n",
              "\n",
              "    .dataframe tbody tr th {\n",
              "        vertical-align: top;\n",
              "    }\n",
              "\n",
              "    .dataframe thead th {\n",
              "        text-align: right;\n",
              "    }\n",
              "</style>\n",
              "<table border=\"1\" class=\"dataframe\">\n",
              "  <thead>\n",
              "    <tr style=\"text-align: right;\">\n",
              "      <th></th>\n",
              "      <th>edad_cat</th>\n",
              "      <th>edad</th>\n",
              "    </tr>\n",
              "  </thead>\n",
              "  <tbody>\n",
              "    <tr>\n",
              "      <th>0</th>\n",
              "      <td>(14.999, 34.0]</td>\n",
              "      <td>23.0</td>\n",
              "    </tr>\n",
              "    <tr>\n",
              "      <th>1</th>\n",
              "      <td>(55.0, 95.0]</td>\n",
              "      <td>58.0</td>\n",
              "    </tr>\n",
              "    <tr>\n",
              "      <th>2</th>\n",
              "      <td>(14.999, 34.0]</td>\n",
              "      <td>27.0</td>\n",
              "    </tr>\n",
              "    <tr>\n",
              "      <th>3</th>\n",
              "      <td>(14.999, 34.0]</td>\n",
              "      <td>32.0</td>\n",
              "    </tr>\n",
              "    <tr>\n",
              "      <th>4</th>\n",
              "      <td>(55.0, 95.0]</td>\n",
              "      <td>65.0</td>\n",
              "    </tr>\n",
              "    <tr>\n",
              "      <th>...</th>\n",
              "      <td>...</td>\n",
              "      <td>...</td>\n",
              "    </tr>\n",
              "    <tr>\n",
              "      <th>3511</th>\n",
              "      <td>(44.0, 55.0]</td>\n",
              "      <td>51.0</td>\n",
              "    </tr>\n",
              "    <tr>\n",
              "      <th>3512</th>\n",
              "      <td>(44.0, 55.0]</td>\n",
              "      <td>48.0</td>\n",
              "    </tr>\n",
              "    <tr>\n",
              "      <th>3513</th>\n",
              "      <td>(34.0, 44.0]</td>\n",
              "      <td>35.0</td>\n",
              "    </tr>\n",
              "    <tr>\n",
              "      <th>3514</th>\n",
              "      <td>(34.0, 44.0]</td>\n",
              "      <td>44.0</td>\n",
              "    </tr>\n",
              "    <tr>\n",
              "      <th>3515</th>\n",
              "      <td>(34.0, 44.0]</td>\n",
              "      <td>37.0</td>\n",
              "    </tr>\n",
              "  </tbody>\n",
              "</table>\n",
              "<p>3516 rows × 2 columns</p>\n",
              "</div>"
            ],
            "text/plain": [
              "            edad_cat  edad\n",
              "0     (14.999, 34.0]  23.0\n",
              "1       (55.0, 95.0]  58.0\n",
              "2     (14.999, 34.0]  27.0\n",
              "3     (14.999, 34.0]  32.0\n",
              "4       (55.0, 95.0]  65.0\n",
              "...              ...   ...\n",
              "3511    (44.0, 55.0]  51.0\n",
              "3512    (44.0, 55.0]  48.0\n",
              "3513    (34.0, 44.0]  35.0\n",
              "3514    (34.0, 44.0]  44.0\n",
              "3515    (34.0, 44.0]  37.0\n",
              "\n",
              "[3516 rows x 2 columns]"
            ]
          },
          "execution_count": 87,
          "metadata": {},
          "output_type": "execute_result"
        }
      ],
      "source": [
        "df[['edad_cat','edad']]"
      ]
    },
    {
      "cell_type": "code",
      "execution_count": 88,
      "metadata": {
        "colab": {
          "base_uri": "https://localhost:8080/"
        },
        "id": "yYXYaa10nggf",
        "outputId": "ca15e11f-1c50-4d54-a26a-050e4a8ea13b"
      },
      "outputs": [
        {
          "data": {
            "text/plain": [
              "count    3382.000000\n",
              "mean       44.795387\n",
              "std        13.400287\n",
              "min        15.000000\n",
              "25%        34.000000\n",
              "50%        44.000000\n",
              "75%        55.000000\n",
              "max        95.000000\n",
              "Name: edad, dtype: float64"
            ]
          },
          "execution_count": 88,
          "metadata": {},
          "output_type": "execute_result"
        }
      ],
      "source": [
        "df['edad'].describe()"
      ]
    },
    {
      "cell_type": "code",
      "execution_count": 89,
      "metadata": {
        "colab": {
          "base_uri": "https://localhost:8080/"
        },
        "id": "dUhnR_3bvXED",
        "outputId": "b2f690ca-4782-4026-9e01-8824d11c4a65"
      },
      "outputs": [
        {
          "data": {
            "text/plain": [
              "3516"
            ]
          },
          "execution_count": 89,
          "metadata": {},
          "output_type": "execute_result"
        }
      ],
      "source": [
        "len(df['edad'])"
      ]
    },
    {
      "cell_type": "code",
      "execution_count": 90,
      "metadata": {
        "colab": {
          "base_uri": "https://localhost:8080/"
        },
        "id": "PBvRLELXprsj",
        "outputId": "9de3b631-e933-4bf3-f4f5-9fd696592188"
      },
      "outputs": [
        {
          "data": {
            "text/plain": [
              "(34.0, 44.0]      878\n",
              "(44.0, 55.0]      860\n",
              "(14.999, 34.0]    849\n",
              "(55.0, 95.0]      795\n",
              "Name: edad_cat, dtype: int64"
            ]
          },
          "execution_count": 90,
          "metadata": {},
          "output_type": "execute_result"
        }
      ],
      "source": [
        "df['edad_cat'].value_counts()"
      ]
    },
    {
      "cell_type": "code",
      "execution_count": 91,
      "metadata": {
        "colab": {
          "base_uri": "https://localhost:8080/"
        },
        "id": "_huk5-gcvY-a",
        "outputId": "cc908048-ad08-4977-e9cc-f32dc0f847f3"
      },
      "outputs": [
        {
          "data": {
            "text/plain": [
              "3382"
            ]
          },
          "execution_count": 91,
          "metadata": {},
          "output_type": "execute_result"
        }
      ],
      "source": [
        "df['edad_cat'].value_counts().sum()"
      ]
    },
    {
      "cell_type": "markdown",
      "metadata": {
        "id": "RfQ0koYavbZb"
      },
      "source": [
        "NOTA: Como se puede ver, edad tiene 3516 valore, pero solo vemos 3382 porque no se están considerando los valores nulos que son 134."
      ]
    },
    {
      "cell_type": "markdown",
      "metadata": {
        "id": "ZA5BwqZPvwC-"
      },
      "source": [
        "Otro modo de contar la cantidad de registros en cada bin, usando la funcion .countplot() que ya vimos en el practico anterior:"
      ]
    },
    {
      "cell_type": "code",
      "execution_count": 92,
      "metadata": {
        "colab": {
          "base_uri": "https://localhost:8080/",
          "height": 297
        },
        "id": "l9yL49_5WaXU",
        "outputId": "2a228016-4a5d-4d66-9eef-08b69bd27cc5"
      },
      "outputs": [
        {
          "data": {
            "text/plain": [
              "<AxesSubplot:xlabel='edad_cat', ylabel='count'>"
            ]
          },
          "execution_count": 92,
          "metadata": {},
          "output_type": "execute_result"
        },
        {
          "data": {
            "image/png": "[encoded data removed]",
            "text/plain": [
              "<Figure size 432x288 with 1 Axes>"
            ]
          },
          "metadata": {
            "needs_background": "light"
          },
          "output_type": "display_data"
        }
      ],
      "source": [
        "sns.countplot(data = df, x = 'edad_cat')"
      ]
    },
    {
      "cell_type": "markdown",
      "metadata": {
        "id": "WanWzYCrwSD3"
      },
      "source": [
        ".cut() es una \"función de discretización que busca que los rangos sean iguales\"  \n",
        "No importa cuantos datos tiene cada rango"
      ]
    },
    {
      "cell_type": "markdown",
      "metadata": {
        "id": "pbAG6QHowtiJ"
      },
      "source": [
        "####Ejercicio 5:  \n",
        "Utilizando la función .cut(), cree una nueva variable llamada \"edad_cat_2\", dividiendo en 4 rangos. Compare los resultados contra los anteriormente obtenidos con .qcut()."
      ]
    },
    {
      "cell_type": "code",
      "execution_count": 93,
      "metadata": {
        "id": "JvPz1-uwWaXU"
      },
      "outputs": [],
      "source": [
        "# Su código"
      ]
    },
    {
      "cell_type": "markdown",
      "metadata": {
        "id": "er2gPiCWWaXV"
      },
      "source": [
        "### Correlación"
      ]
    },
    {
      "cell_type": "code",
      "execution_count": 94,
      "metadata": {
        "colab": {
          "base_uri": "https://localhost:8080/"
        },
        "id": "_tg-rOlvxz-o",
        "outputId": "8d4b2fed-8613-4e9b-b38b-4faa0852f9d6"
      },
      "outputs": [],
      "source": [
        "# Carga de los datos (desde drive)\n",
        "#drive.mount('/content/drive', force_remount=True)\n",
        "\n",
        "df_credit_data = pd.read_csv(\"credit_data.csv\", sep = \",\")"
      ]
    },
    {
      "cell_type": "code",
      "execution_count": 95,
      "metadata": {
        "colab": {
          "base_uri": "https://localhost:8080/",
          "height": 424
        },
        "id": "DisCnE1lx-Wq",
        "outputId": "67421f1f-c963-4e31-8e94-b108fd29d88e"
      },
      "outputs": [
        {
          "data": {
            "text/html": [
              "<div>\n",
              "<style scoped>\n",
              "    .dataframe tbody tr th:only-of-type {\n",
              "        vertical-align: middle;\n",
              "    }\n",
              "\n",
              "    .dataframe tbody tr th {\n",
              "        vertical-align: top;\n",
              "    }\n",
              "\n",
              "    .dataframe thead th {\n",
              "        text-align: right;\n",
              "    }\n",
              "</style>\n",
              "<table border=\"1\" class=\"dataframe\">\n",
              "  <thead>\n",
              "    <tr style=\"text-align: right;\">\n",
              "      <th></th>\n",
              "      <th>Age</th>\n",
              "      <th>Sex</th>\n",
              "      <th>Job</th>\n",
              "      <th>Housing</th>\n",
              "      <th>Saving accounts</th>\n",
              "      <th>Checking account</th>\n",
              "      <th>Credit amount</th>\n",
              "      <th>Duration</th>\n",
              "      <th>Purpose</th>\n",
              "      <th>Risk</th>\n",
              "    </tr>\n",
              "  </thead>\n",
              "  <tbody>\n",
              "    <tr>\n",
              "      <th>0</th>\n",
              "      <td>67</td>\n",
              "      <td>male</td>\n",
              "      <td>1</td>\n",
              "      <td>own</td>\n",
              "      <td>NaN</td>\n",
              "      <td>little</td>\n",
              "      <td>1169</td>\n",
              "      <td>6</td>\n",
              "      <td>domestic appliances</td>\n",
              "      <td>good</td>\n",
              "    </tr>\n",
              "    <tr>\n",
              "      <th>1</th>\n",
              "      <td>22</td>\n",
              "      <td>female</td>\n",
              "      <td>1</td>\n",
              "      <td>own</td>\n",
              "      <td>little</td>\n",
              "      <td>moderate</td>\n",
              "      <td>5951</td>\n",
              "      <td>48</td>\n",
              "      <td>domestic appliances</td>\n",
              "      <td>bad</td>\n",
              "    </tr>\n",
              "    <tr>\n",
              "      <th>2</th>\n",
              "      <td>49</td>\n",
              "      <td>male</td>\n",
              "      <td>3</td>\n",
              "      <td>own</td>\n",
              "      <td>little</td>\n",
              "      <td>NaN</td>\n",
              "      <td>2096</td>\n",
              "      <td>12</td>\n",
              "      <td>(vacation - does not exist?)</td>\n",
              "      <td>good</td>\n",
              "    </tr>\n",
              "    <tr>\n",
              "      <th>3</th>\n",
              "      <td>45</td>\n",
              "      <td>male</td>\n",
              "      <td>1</td>\n",
              "      <td>for free</td>\n",
              "      <td>little</td>\n",
              "      <td>little</td>\n",
              "      <td>7882</td>\n",
              "      <td>42</td>\n",
              "      <td>radio/television</td>\n",
              "      <td>good</td>\n",
              "    </tr>\n",
              "    <tr>\n",
              "      <th>4</th>\n",
              "      <td>53</td>\n",
              "      <td>male</td>\n",
              "      <td>1</td>\n",
              "      <td>for free</td>\n",
              "      <td>little</td>\n",
              "      <td>little</td>\n",
              "      <td>4870</td>\n",
              "      <td>24</td>\n",
              "      <td>car (new)</td>\n",
              "      <td>bad</td>\n",
              "    </tr>\n",
              "    <tr>\n",
              "      <th>...</th>\n",
              "      <td>...</td>\n",
              "      <td>...</td>\n",
              "      <td>...</td>\n",
              "      <td>...</td>\n",
              "      <td>...</td>\n",
              "      <td>...</td>\n",
              "      <td>...</td>\n",
              "      <td>...</td>\n",
              "      <td>...</td>\n",
              "      <td>...</td>\n",
              "    </tr>\n",
              "    <tr>\n",
              "      <th>995</th>\n",
              "      <td>31</td>\n",
              "      <td>female</td>\n",
              "      <td>3</td>\n",
              "      <td>own</td>\n",
              "      <td>little</td>\n",
              "      <td>NaN</td>\n",
              "      <td>1736</td>\n",
              "      <td>12</td>\n",
              "      <td>radio/television</td>\n",
              "      <td>good</td>\n",
              "    </tr>\n",
              "    <tr>\n",
              "      <th>996</th>\n",
              "      <td>40</td>\n",
              "      <td>male</td>\n",
              "      <td>0</td>\n",
              "      <td>own</td>\n",
              "      <td>little</td>\n",
              "      <td>little</td>\n",
              "      <td>3857</td>\n",
              "      <td>30</td>\n",
              "      <td>car (used)</td>\n",
              "      <td>good</td>\n",
              "    </tr>\n",
              "    <tr>\n",
              "      <th>997</th>\n",
              "      <td>38</td>\n",
              "      <td>male</td>\n",
              "      <td>1</td>\n",
              "      <td>own</td>\n",
              "      <td>little</td>\n",
              "      <td>NaN</td>\n",
              "      <td>804</td>\n",
              "      <td>12</td>\n",
              "      <td>domestic appliances</td>\n",
              "      <td>good</td>\n",
              "    </tr>\n",
              "    <tr>\n",
              "      <th>998</th>\n",
              "      <td>23</td>\n",
              "      <td>male</td>\n",
              "      <td>1</td>\n",
              "      <td>for free</td>\n",
              "      <td>little</td>\n",
              "      <td>little</td>\n",
              "      <td>1845</td>\n",
              "      <td>45</td>\n",
              "      <td>domestic appliances</td>\n",
              "      <td>bad</td>\n",
              "    </tr>\n",
              "    <tr>\n",
              "      <th>999</th>\n",
              "      <td>27</td>\n",
              "      <td>male</td>\n",
              "      <td>1</td>\n",
              "      <td>own</td>\n",
              "      <td>moderate</td>\n",
              "      <td>moderate</td>\n",
              "      <td>4576</td>\n",
              "      <td>45</td>\n",
              "      <td>car (used)</td>\n",
              "      <td>good</td>\n",
              "    </tr>\n",
              "  </tbody>\n",
              "</table>\n",
              "<p>1000 rows × 10 columns</p>\n",
              "</div>"
            ],
            "text/plain": [
              "     Age      Sex  Job   Housing Saving accounts Checking account  \\\n",
              "0     67    male     1       own             NaN           little   \n",
              "1     22  female     1       own          little         moderate   \n",
              "2     49    male     3       own          little              NaN   \n",
              "3     45    male     1  for free          little           little   \n",
              "4     53    male     1  for free          little           little   \n",
              "..   ...      ...  ...       ...             ...              ...   \n",
              "995   31  female     3       own          little              NaN   \n",
              "996   40    male     0       own          little           little   \n",
              "997   38    male     1       own          little              NaN   \n",
              "998   23    male     1  for free          little           little   \n",
              "999   27    male     1       own        moderate         moderate   \n",
              "\n",
              "     Credit amount  Duration                       Purpose  Risk  \n",
              "0             1169         6           domestic appliances  good  \n",
              "1             5951        48           domestic appliances   bad  \n",
              "2             2096        12  (vacation - does not exist?)  good  \n",
              "3             7882        42              radio/television  good  \n",
              "4             4870        24                     car (new)   bad  \n",
              "..             ...       ...                           ...   ...  \n",
              "995           1736        12              radio/television  good  \n",
              "996           3857        30                    car (used)  good  \n",
              "997            804        12           domestic appliances  good  \n",
              "998           1845        45           domestic appliances   bad  \n",
              "999           4576        45                    car (used)  good  \n",
              "\n",
              "[1000 rows x 10 columns]"
            ]
          },
          "execution_count": 95,
          "metadata": {},
          "output_type": "execute_result"
        }
      ],
      "source": [
        "df_credit_data"
      ]
    },
    {
      "cell_type": "markdown",
      "metadata": {
        "id": "JWyrJsuRx0TW"
      },
      "source": [
        "La función .corr() se utiliza para encontrar la correlación de a pares de todas las columnas del DataFrame. Los nulos se excluyen. Las columnas no numéricas se excluyen."
      ]
    },
    {
      "cell_type": "code",
      "execution_count": 96,
      "metadata": {
        "colab": {
          "base_uri": "https://localhost:8080/",
          "height": 175
        },
        "id": "wK9oZMeNWaXW",
        "outputId": "f4a76a9d-7bce-4705-d9d1-3912b6e81251"
      },
      "outputs": [
        {
          "data": {
            "text/html": [
              "<div>\n",
              "<style scoped>\n",
              "    .dataframe tbody tr th:only-of-type {\n",
              "        vertical-align: middle;\n",
              "    }\n",
              "\n",
              "    .dataframe tbody tr th {\n",
              "        vertical-align: top;\n",
              "    }\n",
              "\n",
              "    .dataframe thead th {\n",
              "        text-align: right;\n",
              "    }\n",
              "</style>\n",
              "<table border=\"1\" class=\"dataframe\">\n",
              "  <thead>\n",
              "    <tr style=\"text-align: right;\">\n",
              "      <th></th>\n",
              "      <th>Age</th>\n",
              "      <th>Job</th>\n",
              "      <th>Credit amount</th>\n",
              "      <th>Duration</th>\n",
              "    </tr>\n",
              "  </thead>\n",
              "  <tbody>\n",
              "    <tr>\n",
              "      <th>Age</th>\n",
              "      <td>1.000000</td>\n",
              "      <td>-0.001637</td>\n",
              "      <td>0.032716</td>\n",
              "      <td>-0.036136</td>\n",
              "    </tr>\n",
              "    <tr>\n",
              "      <th>Job</th>\n",
              "      <td>-0.001637</td>\n",
              "      <td>1.000000</td>\n",
              "      <td>-0.261139</td>\n",
              "      <td>-0.215438</td>\n",
              "    </tr>\n",
              "    <tr>\n",
              "      <th>Credit amount</th>\n",
              "      <td>0.032716</td>\n",
              "      <td>-0.261139</td>\n",
              "      <td>1.000000</td>\n",
              "      <td>0.624984</td>\n",
              "    </tr>\n",
              "    <tr>\n",
              "      <th>Duration</th>\n",
              "      <td>-0.036136</td>\n",
              "      <td>-0.215438</td>\n",
              "      <td>0.624984</td>\n",
              "      <td>1.000000</td>\n",
              "    </tr>\n",
              "  </tbody>\n",
              "</table>\n",
              "</div>"
            ],
            "text/plain": [
              "                    Age       Job  Credit amount  Duration\n",
              "Age            1.000000 -0.001637       0.032716 -0.036136\n",
              "Job           -0.001637  1.000000      -0.261139 -0.215438\n",
              "Credit amount  0.032716 -0.261139       1.000000  0.624984\n",
              "Duration      -0.036136 -0.215438       0.624984  1.000000"
            ]
          },
          "execution_count": 96,
          "metadata": {},
          "output_type": "execute_result"
        }
      ],
      "source": [
        "d_cor = df_credit_data.corr()\n",
        "d_cor"
      ]
    },
    {
      "cell_type": "code",
      "execution_count": 97,
      "metadata": {
        "colab": {
          "base_uri": "https://localhost:8080/",
          "height": 300
        },
        "id": "Sw9w0-2yWaXW",
        "outputId": "d9fdde48-1549-4777-9f48-2eedf9a6c000"
      },
      "outputs": [
        {
          "data": {
            "text/plain": [
              "Text(0.5, 1.0, 'Correlation Heatmap')"
            ]
          },
          "execution_count": 97,
          "metadata": {},
          "output_type": "execute_result"
        },
        {
          "data": {
            "image/png": "[encoded data removed]",
            "text/plain": [
              "<Figure size 432x288 with 2 Axes>"
            ]
          },
          "metadata": {
            "needs_background": "light"
          },
          "output_type": "display_data"
        }
      ],
      "source": [
        "cmap = sns.diverging_palette(0, 100, sep = 20)\n",
        "# el primer parametro (0) indica los colores para los valores mas bajos (si la correlacion fuera de -1 en algun caso, estaria en rojo oscuro)\n",
        "# el segundo parametro (100) indica los colores para los valores mas altos (para correlacion 1 queda en verde oscuro)\n",
        "# el parametro \"sep\" establece la separacion entre el rango de colores que se aclara y el rango de colores que se oscurece\n",
        "\n",
        "\n",
        "sns.heatmap(d_cor, annot = True, cmap = cmap, center = 0).set_title(\"Correlation Heatmap\", fontsize = 16)\n",
        "# heatmap recibe los datos, la paleta de colores\n",
        "# annot = Si esta en \"True\", pone el valor en cada celda de la matriz de correlacion \n",
        "# center = el valor en donde centrar el cambio de color (en este caso tenemos valores que van entre -1 y 1, por lo cual, marcamos 0 para el cambio de color). \n",
        "# Desde el centro hacia cada costado en igual medida, se marca el blanco segun la cantidad \"sep\""
      ]
    },
    {
      "cell_type": "markdown",
      "metadata": {
        "id": "risI_69I0IUT"
      },
      "source": [
        "Veamos cómo se ven las variables en un ScatterPlot"
      ]
    },
    {
      "cell_type": "markdown",
      "metadata": {
        "id": "V1aCcquB0Osi"
      },
      "source": [
        "Dos variables nada correlacionadas"
      ]
    },
    {
      "cell_type": "code",
      "execution_count": 98,
      "metadata": {
        "colab": {
          "base_uri": "https://localhost:8080/",
          "height": 296
        },
        "id": "u0eSkfbfWaXX",
        "outputId": "61924cd4-09ca-491f-db5f-ceb47e408015"
      },
      "outputs": [
        {
          "data": {
            "text/plain": [
              "<AxesSubplot:xlabel='Age', ylabel='Credit amount'>"
            ]
          },
          "execution_count": 98,
          "metadata": {},
          "output_type": "execute_result"
        },
        {
          "data": {
            "image/png": "[encoded data removed]",
            "text/plain": [
              "<Figure size 432x288 with 1 Axes>"
            ]
          },
          "metadata": {
            "needs_background": "light"
          },
          "output_type": "display_data"
        }
      ],
      "source": [
        "df_credit_data.plot.scatter(x = 'Age', y = 'Credit amount')"
      ]
    },
    {
      "cell_type": "markdown",
      "metadata": {
        "id": "eTS-JN6o0bja"
      },
      "source": [
        "Dos variables un poco correlacionadas (+)"
      ]
    },
    {
      "cell_type": "code",
      "execution_count": 99,
      "metadata": {
        "colab": {
          "base_uri": "https://localhost:8080/",
          "height": 296
        },
        "id": "syGrO4uN0WSX",
        "outputId": "8fd2a831-ea5b-45e3-b01d-dc47c9811938"
      },
      "outputs": [
        {
          "data": {
            "text/plain": [
              "<AxesSubplot:xlabel='Duration', ylabel='Credit amount'>"
            ]
          },
          "execution_count": 99,
          "metadata": {},
          "output_type": "execute_result"
        },
        {
          "data": {
            "image/png": "[encoded data removed]",
            "text/plain": [
              "<Figure size 432x288 with 1 Axes>"
            ]
          },
          "metadata": {
            "needs_background": "light"
          },
          "output_type": "display_data"
        }
      ],
      "source": [
        "df_credit_data.plot.scatter(x = 'Duration', y = 'Credit amount')"
      ]
    },
    {
      "cell_type": "markdown",
      "metadata": {
        "id": "1CzJlA5O0w8h"
      },
      "source": [
        "NOTA: Tener en cuenta que no pasamos JOB a categórica"
      ]
    },
    {
      "cell_type": "markdown",
      "metadata": {
        "id": "bc8lYmHIWaXX"
      },
      "source": [
        "### One hot encoding"
      ]
    },
    {
      "cell_type": "code",
      "execution_count": 100,
      "metadata": {
        "id": "QR2GKRawWaXY"
      },
      "outputs": [],
      "source": [
        "# Un vector one hot esta compuesto por elementos en cero para los valores que no nos interesan, y unos para los que si. \n",
        "df_credit_data_2 = pd.get_dummies(df_credit_data)\n",
        "\n",
        "# Creación de variables dummies para cada variable categórica. \n",
        "# Al aplicar la funcion \"get_dummies\" estamos generando vectores one hot para cada categoria de las variables que son categoricas"
      ]
    },
    {
      "cell_type": "code",
      "execution_count": 101,
      "metadata": {
        "colab": {
          "base_uri": "https://localhost:8080/",
          "height": 505
        },
        "id": "WkHMAzZlWaXY",
        "outputId": "7d080f24-2cb9-40e9-cfb3-70be0d5f2ae2"
      },
      "outputs": [
        {
          "data": {
            "text/html": [
              "<div>\n",
              "<style scoped>\n",
              "    .dataframe tbody tr th:only-of-type {\n",
              "        vertical-align: middle;\n",
              "    }\n",
              "\n",
              "    .dataframe tbody tr th {\n",
              "        vertical-align: top;\n",
              "    }\n",
              "\n",
              "    .dataframe thead th {\n",
              "        text-align: right;\n",
              "    }\n",
              "</style>\n",
              "<table border=\"1\" class=\"dataframe\">\n",
              "  <thead>\n",
              "    <tr style=\"text-align: right;\">\n",
              "      <th></th>\n",
              "      <th>Age</th>\n",
              "      <th>Job</th>\n",
              "      <th>Credit amount</th>\n",
              "      <th>Duration</th>\n",
              "      <th>Sex_female</th>\n",
              "      <th>Sex_male</th>\n",
              "      <th>Housing_for free</th>\n",
              "      <th>Housing_own</th>\n",
              "      <th>Housing_rent</th>\n",
              "      <th>Saving accounts_little</th>\n",
              "      <th>...</th>\n",
              "      <th>Purpose_car (new)</th>\n",
              "      <th>Purpose_car (used)</th>\n",
              "      <th>Purpose_domestic appliances</th>\n",
              "      <th>Purpose_education</th>\n",
              "      <th>Purpose_furniture/equipment</th>\n",
              "      <th>Purpose_radio/television</th>\n",
              "      <th>Purpose_repairs</th>\n",
              "      <th>Purpose_retraining</th>\n",
              "      <th>Risk_bad</th>\n",
              "      <th>Risk_good</th>\n",
              "    </tr>\n",
              "  </thead>\n",
              "  <tbody>\n",
              "    <tr>\n",
              "      <th>0</th>\n",
              "      <td>67</td>\n",
              "      <td>1</td>\n",
              "      <td>1169</td>\n",
              "      <td>6</td>\n",
              "      <td>0</td>\n",
              "      <td>1</td>\n",
              "      <td>0</td>\n",
              "      <td>1</td>\n",
              "      <td>0</td>\n",
              "      <td>0</td>\n",
              "      <td>...</td>\n",
              "      <td>0</td>\n",
              "      <td>0</td>\n",
              "      <td>1</td>\n",
              "      <td>0</td>\n",
              "      <td>0</td>\n",
              "      <td>0</td>\n",
              "      <td>0</td>\n",
              "      <td>0</td>\n",
              "      <td>0</td>\n",
              "      <td>1</td>\n",
              "    </tr>\n",
              "    <tr>\n",
              "      <th>1</th>\n",
              "      <td>22</td>\n",
              "      <td>1</td>\n",
              "      <td>5951</td>\n",
              "      <td>48</td>\n",
              "      <td>1</td>\n",
              "      <td>0</td>\n",
              "      <td>0</td>\n",
              "      <td>1</td>\n",
              "      <td>0</td>\n",
              "      <td>1</td>\n",
              "      <td>...</td>\n",
              "      <td>0</td>\n",
              "      <td>0</td>\n",
              "      <td>1</td>\n",
              "      <td>0</td>\n",
              "      <td>0</td>\n",
              "      <td>0</td>\n",
              "      <td>0</td>\n",
              "      <td>0</td>\n",
              "      <td>1</td>\n",
              "      <td>0</td>\n",
              "    </tr>\n",
              "    <tr>\n",
              "      <th>2</th>\n",
              "      <td>49</td>\n",
              "      <td>3</td>\n",
              "      <td>2096</td>\n",
              "      <td>12</td>\n",
              "      <td>0</td>\n",
              "      <td>1</td>\n",
              "      <td>0</td>\n",
              "      <td>1</td>\n",
              "      <td>0</td>\n",
              "      <td>1</td>\n",
              "      <td>...</td>\n",
              "      <td>0</td>\n",
              "      <td>0</td>\n",
              "      <td>0</td>\n",
              "      <td>0</td>\n",
              "      <td>0</td>\n",
              "      <td>0</td>\n",
              "      <td>0</td>\n",
              "      <td>0</td>\n",
              "      <td>0</td>\n",
              "      <td>1</td>\n",
              "    </tr>\n",
              "    <tr>\n",
              "      <th>3</th>\n",
              "      <td>45</td>\n",
              "      <td>1</td>\n",
              "      <td>7882</td>\n",
              "      <td>42</td>\n",
              "      <td>0</td>\n",
              "      <td>1</td>\n",
              "      <td>1</td>\n",
              "      <td>0</td>\n",
              "      <td>0</td>\n",
              "      <td>1</td>\n",
              "      <td>...</td>\n",
              "      <td>0</td>\n",
              "      <td>0</td>\n",
              "      <td>0</td>\n",
              "      <td>0</td>\n",
              "      <td>0</td>\n",
              "      <td>1</td>\n",
              "      <td>0</td>\n",
              "      <td>0</td>\n",
              "      <td>0</td>\n",
              "      <td>1</td>\n",
              "    </tr>\n",
              "    <tr>\n",
              "      <th>4</th>\n",
              "      <td>53</td>\n",
              "      <td>1</td>\n",
              "      <td>4870</td>\n",
              "      <td>24</td>\n",
              "      <td>0</td>\n",
              "      <td>1</td>\n",
              "      <td>1</td>\n",
              "      <td>0</td>\n",
              "      <td>0</td>\n",
              "      <td>1</td>\n",
              "      <td>...</td>\n",
              "      <td>1</td>\n",
              "      <td>0</td>\n",
              "      <td>0</td>\n",
              "      <td>0</td>\n",
              "      <td>0</td>\n",
              "      <td>0</td>\n",
              "      <td>0</td>\n",
              "      <td>0</td>\n",
              "      <td>1</td>\n",
              "      <td>0</td>\n",
              "    </tr>\n",
              "    <tr>\n",
              "      <th>...</th>\n",
              "      <td>...</td>\n",
              "      <td>...</td>\n",
              "      <td>...</td>\n",
              "      <td>...</td>\n",
              "      <td>...</td>\n",
              "      <td>...</td>\n",
              "      <td>...</td>\n",
              "      <td>...</td>\n",
              "      <td>...</td>\n",
              "      <td>...</td>\n",
              "      <td>...</td>\n",
              "      <td>...</td>\n",
              "      <td>...</td>\n",
              "      <td>...</td>\n",
              "      <td>...</td>\n",
              "      <td>...</td>\n",
              "      <td>...</td>\n",
              "      <td>...</td>\n",
              "      <td>...</td>\n",
              "      <td>...</td>\n",
              "      <td>...</td>\n",
              "    </tr>\n",
              "    <tr>\n",
              "      <th>995</th>\n",
              "      <td>31</td>\n",
              "      <td>3</td>\n",
              "      <td>1736</td>\n",
              "      <td>12</td>\n",
              "      <td>1</td>\n",
              "      <td>0</td>\n",
              "      <td>0</td>\n",
              "      <td>1</td>\n",
              "      <td>0</td>\n",
              "      <td>1</td>\n",
              "      <td>...</td>\n",
              "      <td>0</td>\n",
              "      <td>0</td>\n",
              "      <td>0</td>\n",
              "      <td>0</td>\n",
              "      <td>0</td>\n",
              "      <td>1</td>\n",
              "      <td>0</td>\n",
              "      <td>0</td>\n",
              "      <td>0</td>\n",
              "      <td>1</td>\n",
              "    </tr>\n",
              "    <tr>\n",
              "      <th>996</th>\n",
              "      <td>40</td>\n",
              "      <td>0</td>\n",
              "      <td>3857</td>\n",
              "      <td>30</td>\n",
              "      <td>0</td>\n",
              "      <td>1</td>\n",
              "      <td>0</td>\n",
              "      <td>1</td>\n",
              "      <td>0</td>\n",
              "      <td>1</td>\n",
              "      <td>...</td>\n",
              "      <td>0</td>\n",
              "      <td>1</td>\n",
              "      <td>0</td>\n",
              "      <td>0</td>\n",
              "      <td>0</td>\n",
              "      <td>0</td>\n",
              "      <td>0</td>\n",
              "      <td>0</td>\n",
              "      <td>0</td>\n",
              "      <td>1</td>\n",
              "    </tr>\n",
              "    <tr>\n",
              "      <th>997</th>\n",
              "      <td>38</td>\n",
              "      <td>1</td>\n",
              "      <td>804</td>\n",
              "      <td>12</td>\n",
              "      <td>0</td>\n",
              "      <td>1</td>\n",
              "      <td>0</td>\n",
              "      <td>1</td>\n",
              "      <td>0</td>\n",
              "      <td>1</td>\n",
              "      <td>...</td>\n",
              "      <td>0</td>\n",
              "      <td>0</td>\n",
              "      <td>1</td>\n",
              "      <td>0</td>\n",
              "      <td>0</td>\n",
              "      <td>0</td>\n",
              "      <td>0</td>\n",
              "      <td>0</td>\n",
              "      <td>0</td>\n",
              "      <td>1</td>\n",
              "    </tr>\n",
              "    <tr>\n",
              "      <th>998</th>\n",
              "      <td>23</td>\n",
              "      <td>1</td>\n",
              "      <td>1845</td>\n",
              "      <td>45</td>\n",
              "      <td>0</td>\n",
              "      <td>1</td>\n",
              "      <td>1</td>\n",
              "      <td>0</td>\n",
              "      <td>0</td>\n",
              "      <td>1</td>\n",
              "      <td>...</td>\n",
              "      <td>0</td>\n",
              "      <td>0</td>\n",
              "      <td>1</td>\n",
              "      <td>0</td>\n",
              "      <td>0</td>\n",
              "      <td>0</td>\n",
              "      <td>0</td>\n",
              "      <td>0</td>\n",
              "      <td>1</td>\n",
              "      <td>0</td>\n",
              "    </tr>\n",
              "    <tr>\n",
              "      <th>999</th>\n",
              "      <td>27</td>\n",
              "      <td>1</td>\n",
              "      <td>4576</td>\n",
              "      <td>45</td>\n",
              "      <td>0</td>\n",
              "      <td>1</td>\n",
              "      <td>0</td>\n",
              "      <td>1</td>\n",
              "      <td>0</td>\n",
              "      <td>0</td>\n",
              "      <td>...</td>\n",
              "      <td>0</td>\n",
              "      <td>1</td>\n",
              "      <td>0</td>\n",
              "      <td>0</td>\n",
              "      <td>0</td>\n",
              "      <td>0</td>\n",
              "      <td>0</td>\n",
              "      <td>0</td>\n",
              "      <td>0</td>\n",
              "      <td>1</td>\n",
              "    </tr>\n",
              "  </tbody>\n",
              "</table>\n",
              "<p>1000 rows × 28 columns</p>\n",
              "</div>"
            ],
            "text/plain": [
              "     Age  Job  Credit amount  Duration  Sex_female   Sex_male   \\\n",
              "0     67    1           1169         6            0          1   \n",
              "1     22    1           5951        48            1          0   \n",
              "2     49    3           2096        12            0          1   \n",
              "3     45    1           7882        42            0          1   \n",
              "4     53    1           4870        24            0          1   \n",
              "..   ...  ...            ...       ...          ...        ...   \n",
              "995   31    3           1736        12            1          0   \n",
              "996   40    0           3857        30            0          1   \n",
              "997   38    1            804        12            0          1   \n",
              "998   23    1           1845        45            0          1   \n",
              "999   27    1           4576        45            0          1   \n",
              "\n",
              "     Housing_for free  Housing_own  Housing_rent  Saving accounts_little  ...  \\\n",
              "0                   0            1             0                       0  ...   \n",
              "1                   0            1             0                       1  ...   \n",
              "2                   0            1             0                       1  ...   \n",
              "3                   1            0             0                       1  ...   \n",
              "4                   1            0             0                       1  ...   \n",
              "..                ...          ...           ...                     ...  ...   \n",
              "995                 0            1             0                       1  ...   \n",
              "996                 0            1             0                       1  ...   \n",
              "997                 0            1             0                       1  ...   \n",
              "998                 1            0             0                       1  ...   \n",
              "999                 0            1             0                       0  ...   \n",
              "\n",
              "     Purpose_car (new)  Purpose_car (used)  Purpose_domestic appliances  \\\n",
              "0                    0                   0                            1   \n",
              "1                    0                   0                            1   \n",
              "2                    0                   0                            0   \n",
              "3                    0                   0                            0   \n",
              "4                    1                   0                            0   \n",
              "..                 ...                 ...                          ...   \n",
              "995                  0                   0                            0   \n",
              "996                  0                   1                            0   \n",
              "997                  0                   0                            1   \n",
              "998                  0                   0                            1   \n",
              "999                  0                   1                            0   \n",
              "\n",
              "     Purpose_education  Purpose_furniture/equipment  Purpose_radio/television  \\\n",
              "0                    0                            0                         0   \n",
              "1                    0                            0                         0   \n",
              "2                    0                            0                         0   \n",
              "3                    0                            0                         1   \n",
              "4                    0                            0                         0   \n",
              "..                 ...                          ...                       ...   \n",
              "995                  0                            0                         1   \n",
              "996                  0                            0                         0   \n",
              "997                  0                            0                         0   \n",
              "998                  0                            0                         0   \n",
              "999                  0                            0                         0   \n",
              "\n",
              "     Purpose_repairs  Purpose_retraining  Risk_bad  Risk_good  \n",
              "0                  0                   0         0          1  \n",
              "1                  0                   0         1          0  \n",
              "2                  0                   0         0          1  \n",
              "3                  0                   0         0          1  \n",
              "4                  0                   0         1          0  \n",
              "..               ...                 ...       ...        ...  \n",
              "995                0                   0         0          1  \n",
              "996                0                   0         0          1  \n",
              "997                0                   0         0          1  \n",
              "998                0                   0         1          0  \n",
              "999                0                   0         0          1  \n",
              "\n",
              "[1000 rows x 28 columns]"
            ]
          },
          "execution_count": 101,
          "metadata": {},
          "output_type": "execute_result"
        }
      ],
      "source": [
        "df_credit_data_2"
      ]
    },
    {
      "cell_type": "code",
      "execution_count": 102,
      "metadata": {
        "colab": {
          "base_uri": "https://localhost:8080/"
        },
        "id": "NJ3bcQcB1ezD",
        "outputId": "183519f3-db4f-4bfe-b46a-7c7bac176221"
      },
      "outputs": [
        {
          "data": {
            "text/plain": [
              "Index(['Age', 'Job', 'Credit amount', 'Duration', 'Sex_female ', 'Sex_male ',\n",
              "       'Housing_for free', 'Housing_own', 'Housing_rent',\n",
              "       'Saving accounts_little', 'Saving accounts_moderate',\n",
              "       'Saving accounts_quite rich', 'Saving accounts_rich',\n",
              "       'Checking account_little', 'Checking account_moderate',\n",
              "       'Checking account_rich', 'Purpose_(vacation - does not exist?)',\n",
              "       'Purpose_business', 'Purpose_car (new)', 'Purpose_car (used)',\n",
              "       'Purpose_domestic appliances', 'Purpose_education',\n",
              "       'Purpose_furniture/equipment', 'Purpose_radio/television',\n",
              "       'Purpose_repairs', 'Purpose_retraining', 'Risk_bad', 'Risk_good'],\n",
              "      dtype='object')"
            ]
          },
          "execution_count": 102,
          "metadata": {},
          "output_type": "execute_result"
        }
      ],
      "source": [
        "df_credit_data_2.columns"
      ]
    },
    {
      "cell_type": "code",
      "execution_count": 103,
      "metadata": {
        "colab": {
          "base_uri": "https://localhost:8080/",
          "height": 424
        },
        "id": "2W41Tx7GWaXY",
        "outputId": "da8ced66-ce8e-4c4d-a67d-e7714c8b9643"
      },
      "outputs": [
        {
          "data": {
            "text/html": [
              "<div>\n",
              "<style scoped>\n",
              "    .dataframe tbody tr th:only-of-type {\n",
              "        vertical-align: middle;\n",
              "    }\n",
              "\n",
              "    .dataframe tbody tr th {\n",
              "        vertical-align: top;\n",
              "    }\n",
              "\n",
              "    .dataframe thead th {\n",
              "        text-align: right;\n",
              "    }\n",
              "</style>\n",
              "<table border=\"1\" class=\"dataframe\">\n",
              "  <thead>\n",
              "    <tr style=\"text-align: right;\">\n",
              "      <th></th>\n",
              "      <th>Sex_female</th>\n",
              "      <th>Sex_male</th>\n",
              "    </tr>\n",
              "  </thead>\n",
              "  <tbody>\n",
              "    <tr>\n",
              "      <th>0</th>\n",
              "      <td>0</td>\n",
              "      <td>1</td>\n",
              "    </tr>\n",
              "    <tr>\n",
              "      <th>1</th>\n",
              "      <td>1</td>\n",
              "      <td>0</td>\n",
              "    </tr>\n",
              "    <tr>\n",
              "      <th>2</th>\n",
              "      <td>0</td>\n",
              "      <td>1</td>\n",
              "    </tr>\n",
              "    <tr>\n",
              "      <th>3</th>\n",
              "      <td>0</td>\n",
              "      <td>1</td>\n",
              "    </tr>\n",
              "    <tr>\n",
              "      <th>4</th>\n",
              "      <td>0</td>\n",
              "      <td>1</td>\n",
              "    </tr>\n",
              "    <tr>\n",
              "      <th>...</th>\n",
              "      <td>...</td>\n",
              "      <td>...</td>\n",
              "    </tr>\n",
              "    <tr>\n",
              "      <th>995</th>\n",
              "      <td>1</td>\n",
              "      <td>0</td>\n",
              "    </tr>\n",
              "    <tr>\n",
              "      <th>996</th>\n",
              "      <td>0</td>\n",
              "      <td>1</td>\n",
              "    </tr>\n",
              "    <tr>\n",
              "      <th>997</th>\n",
              "      <td>0</td>\n",
              "      <td>1</td>\n",
              "    </tr>\n",
              "    <tr>\n",
              "      <th>998</th>\n",
              "      <td>0</td>\n",
              "      <td>1</td>\n",
              "    </tr>\n",
              "    <tr>\n",
              "      <th>999</th>\n",
              "      <td>0</td>\n",
              "      <td>1</td>\n",
              "    </tr>\n",
              "  </tbody>\n",
              "</table>\n",
              "<p>1000 rows × 2 columns</p>\n",
              "</div>"
            ],
            "text/plain": [
              "     Sex_female   Sex_male \n",
              "0              0          1\n",
              "1              1          0\n",
              "2              0          1\n",
              "3              0          1\n",
              "4              0          1\n",
              "..           ...        ...\n",
              "995            1          0\n",
              "996            0          1\n",
              "997            0          1\n",
              "998            0          1\n",
              "999            0          1\n",
              "\n",
              "[1000 rows x 2 columns]"
            ]
          },
          "execution_count": 103,
          "metadata": {},
          "output_type": "execute_result"
        }
      ],
      "source": [
        "df_credit_data_2[['Sex_female ', 'Sex_male ']]"
      ]
    },
    {
      "cell_type": "markdown",
      "metadata": {
        "id": "udgKQCQ61tru"
      },
      "source": [
        "Hacemos lo mismo pero eliminando la primer categoria (por ejemplo, para sex, nos quedamos solo con la categoria \"male\". Si sex_male = 0, entonces es sex_female)."
      ]
    },
    {
      "cell_type": "code",
      "execution_count": 104,
      "metadata": {
        "id": "aBUtnhvVWaXZ"
      },
      "outputs": [],
      "source": [
        "df_credit_data_3 = pd.get_dummies(df_credit_data, drop_first = True)"
      ]
    },
    {
      "cell_type": "code",
      "execution_count": 105,
      "metadata": {
        "colab": {
          "base_uri": "https://localhost:8080/",
          "height": 522
        },
        "id": "BNXJiXXXWaXZ",
        "outputId": "6bb39acb-1266-42fe-e8f5-7bea7312d6f2"
      },
      "outputs": [
        {
          "data": {
            "text/html": [
              "<div>\n",
              "<style scoped>\n",
              "    .dataframe tbody tr th:only-of-type {\n",
              "        vertical-align: middle;\n",
              "    }\n",
              "\n",
              "    .dataframe tbody tr th {\n",
              "        vertical-align: top;\n",
              "    }\n",
              "\n",
              "    .dataframe thead th {\n",
              "        text-align: right;\n",
              "    }\n",
              "</style>\n",
              "<table border=\"1\" class=\"dataframe\">\n",
              "  <thead>\n",
              "    <tr style=\"text-align: right;\">\n",
              "      <th></th>\n",
              "      <th>Age</th>\n",
              "      <th>Job</th>\n",
              "      <th>Credit amount</th>\n",
              "      <th>Duration</th>\n",
              "      <th>Sex_male</th>\n",
              "      <th>Housing_own</th>\n",
              "      <th>Housing_rent</th>\n",
              "      <th>Saving accounts_moderate</th>\n",
              "      <th>Saving accounts_quite rich</th>\n",
              "      <th>Saving accounts_rich</th>\n",
              "      <th>...</th>\n",
              "      <th>Purpose_business</th>\n",
              "      <th>Purpose_car (new)</th>\n",
              "      <th>Purpose_car (used)</th>\n",
              "      <th>Purpose_domestic appliances</th>\n",
              "      <th>Purpose_education</th>\n",
              "      <th>Purpose_furniture/equipment</th>\n",
              "      <th>Purpose_radio/television</th>\n",
              "      <th>Purpose_repairs</th>\n",
              "      <th>Purpose_retraining</th>\n",
              "      <th>Risk_good</th>\n",
              "    </tr>\n",
              "  </thead>\n",
              "  <tbody>\n",
              "    <tr>\n",
              "      <th>0</th>\n",
              "      <td>67</td>\n",
              "      <td>1</td>\n",
              "      <td>1169</td>\n",
              "      <td>6</td>\n",
              "      <td>1</td>\n",
              "      <td>1</td>\n",
              "      <td>0</td>\n",
              "      <td>0</td>\n",
              "      <td>0</td>\n",
              "      <td>0</td>\n",
              "      <td>...</td>\n",
              "      <td>0</td>\n",
              "      <td>0</td>\n",
              "      <td>0</td>\n",
              "      <td>1</td>\n",
              "      <td>0</td>\n",
              "      <td>0</td>\n",
              "      <td>0</td>\n",
              "      <td>0</td>\n",
              "      <td>0</td>\n",
              "      <td>1</td>\n",
              "    </tr>\n",
              "    <tr>\n",
              "      <th>1</th>\n",
              "      <td>22</td>\n",
              "      <td>1</td>\n",
              "      <td>5951</td>\n",
              "      <td>48</td>\n",
              "      <td>0</td>\n",
              "      <td>1</td>\n",
              "      <td>0</td>\n",
              "      <td>0</td>\n",
              "      <td>0</td>\n",
              "      <td>0</td>\n",
              "      <td>...</td>\n",
              "      <td>0</td>\n",
              "      <td>0</td>\n",
              "      <td>0</td>\n",
              "      <td>1</td>\n",
              "      <td>0</td>\n",
              "      <td>0</td>\n",
              "      <td>0</td>\n",
              "      <td>0</td>\n",
              "      <td>0</td>\n",
              "      <td>0</td>\n",
              "    </tr>\n",
              "    <tr>\n",
              "      <th>2</th>\n",
              "      <td>49</td>\n",
              "      <td>3</td>\n",
              "      <td>2096</td>\n",
              "      <td>12</td>\n",
              "      <td>1</td>\n",
              "      <td>1</td>\n",
              "      <td>0</td>\n",
              "      <td>0</td>\n",
              "      <td>0</td>\n",
              "      <td>0</td>\n",
              "      <td>...</td>\n",
              "      <td>0</td>\n",
              "      <td>0</td>\n",
              "      <td>0</td>\n",
              "      <td>0</td>\n",
              "      <td>0</td>\n",
              "      <td>0</td>\n",
              "      <td>0</td>\n",
              "      <td>0</td>\n",
              "      <td>0</td>\n",
              "      <td>1</td>\n",
              "    </tr>\n",
              "    <tr>\n",
              "      <th>3</th>\n",
              "      <td>45</td>\n",
              "      <td>1</td>\n",
              "      <td>7882</td>\n",
              "      <td>42</td>\n",
              "      <td>1</td>\n",
              "      <td>0</td>\n",
              "      <td>0</td>\n",
              "      <td>0</td>\n",
              "      <td>0</td>\n",
              "      <td>0</td>\n",
              "      <td>...</td>\n",
              "      <td>0</td>\n",
              "      <td>0</td>\n",
              "      <td>0</td>\n",
              "      <td>0</td>\n",
              "      <td>0</td>\n",
              "      <td>0</td>\n",
              "      <td>1</td>\n",
              "      <td>0</td>\n",
              "      <td>0</td>\n",
              "      <td>1</td>\n",
              "    </tr>\n",
              "    <tr>\n",
              "      <th>4</th>\n",
              "      <td>53</td>\n",
              "      <td>1</td>\n",
              "      <td>4870</td>\n",
              "      <td>24</td>\n",
              "      <td>1</td>\n",
              "      <td>0</td>\n",
              "      <td>0</td>\n",
              "      <td>0</td>\n",
              "      <td>0</td>\n",
              "      <td>0</td>\n",
              "      <td>...</td>\n",
              "      <td>0</td>\n",
              "      <td>1</td>\n",
              "      <td>0</td>\n",
              "      <td>0</td>\n",
              "      <td>0</td>\n",
              "      <td>0</td>\n",
              "      <td>0</td>\n",
              "      <td>0</td>\n",
              "      <td>0</td>\n",
              "      <td>0</td>\n",
              "    </tr>\n",
              "    <tr>\n",
              "      <th>...</th>\n",
              "      <td>...</td>\n",
              "      <td>...</td>\n",
              "      <td>...</td>\n",
              "      <td>...</td>\n",
              "      <td>...</td>\n",
              "      <td>...</td>\n",
              "      <td>...</td>\n",
              "      <td>...</td>\n",
              "      <td>...</td>\n",
              "      <td>...</td>\n",
              "      <td>...</td>\n",
              "      <td>...</td>\n",
              "      <td>...</td>\n",
              "      <td>...</td>\n",
              "      <td>...</td>\n",
              "      <td>...</td>\n",
              "      <td>...</td>\n",
              "      <td>...</td>\n",
              "      <td>...</td>\n",
              "      <td>...</td>\n",
              "      <td>...</td>\n",
              "    </tr>\n",
              "    <tr>\n",
              "      <th>995</th>\n",
              "      <td>31</td>\n",
              "      <td>3</td>\n",
              "      <td>1736</td>\n",
              "      <td>12</td>\n",
              "      <td>0</td>\n",
              "      <td>1</td>\n",
              "      <td>0</td>\n",
              "      <td>0</td>\n",
              "      <td>0</td>\n",
              "      <td>0</td>\n",
              "      <td>...</td>\n",
              "      <td>0</td>\n",
              "      <td>0</td>\n",
              "      <td>0</td>\n",
              "      <td>0</td>\n",
              "      <td>0</td>\n",
              "      <td>0</td>\n",
              "      <td>1</td>\n",
              "      <td>0</td>\n",
              "      <td>0</td>\n",
              "      <td>1</td>\n",
              "    </tr>\n",
              "    <tr>\n",
              "      <th>996</th>\n",
              "      <td>40</td>\n",
              "      <td>0</td>\n",
              "      <td>3857</td>\n",
              "      <td>30</td>\n",
              "      <td>1</td>\n",
              "      <td>1</td>\n",
              "      <td>0</td>\n",
              "      <td>0</td>\n",
              "      <td>0</td>\n",
              "      <td>0</td>\n",
              "      <td>...</td>\n",
              "      <td>0</td>\n",
              "      <td>0</td>\n",
              "      <td>1</td>\n",
              "      <td>0</td>\n",
              "      <td>0</td>\n",
              "      <td>0</td>\n",
              "      <td>0</td>\n",
              "      <td>0</td>\n",
              "      <td>0</td>\n",
              "      <td>1</td>\n",
              "    </tr>\n",
              "    <tr>\n",
              "      <th>997</th>\n",
              "      <td>38</td>\n",
              "      <td>1</td>\n",
              "      <td>804</td>\n",
              "      <td>12</td>\n",
              "      <td>1</td>\n",
              "      <td>1</td>\n",
              "      <td>0</td>\n",
              "      <td>0</td>\n",
              "      <td>0</td>\n",
              "      <td>0</td>\n",
              "      <td>...</td>\n",
              "      <td>0</td>\n",
              "      <td>0</td>\n",
              "      <td>0</td>\n",
              "      <td>1</td>\n",
              "      <td>0</td>\n",
              "      <td>0</td>\n",
              "      <td>0</td>\n",
              "      <td>0</td>\n",
              "      <td>0</td>\n",
              "      <td>1</td>\n",
              "    </tr>\n",
              "    <tr>\n",
              "      <th>998</th>\n",
              "      <td>23</td>\n",
              "      <td>1</td>\n",
              "      <td>1845</td>\n",
              "      <td>45</td>\n",
              "      <td>1</td>\n",
              "      <td>0</td>\n",
              "      <td>0</td>\n",
              "      <td>0</td>\n",
              "      <td>0</td>\n",
              "      <td>0</td>\n",
              "      <td>...</td>\n",
              "      <td>0</td>\n",
              "      <td>0</td>\n",
              "      <td>0</td>\n",
              "      <td>1</td>\n",
              "      <td>0</td>\n",
              "      <td>0</td>\n",
              "      <td>0</td>\n",
              "      <td>0</td>\n",
              "      <td>0</td>\n",
              "      <td>0</td>\n",
              "    </tr>\n",
              "    <tr>\n",
              "      <th>999</th>\n",
              "      <td>27</td>\n",
              "      <td>1</td>\n",
              "      <td>4576</td>\n",
              "      <td>45</td>\n",
              "      <td>1</td>\n",
              "      <td>1</td>\n",
              "      <td>0</td>\n",
              "      <td>1</td>\n",
              "      <td>0</td>\n",
              "      <td>0</td>\n",
              "      <td>...</td>\n",
              "      <td>0</td>\n",
              "      <td>0</td>\n",
              "      <td>1</td>\n",
              "      <td>0</td>\n",
              "      <td>0</td>\n",
              "      <td>0</td>\n",
              "      <td>0</td>\n",
              "      <td>0</td>\n",
              "      <td>0</td>\n",
              "      <td>1</td>\n",
              "    </tr>\n",
              "  </tbody>\n",
              "</table>\n",
              "<p>1000 rows × 22 columns</p>\n",
              "</div>"
            ],
            "text/plain": [
              "     Age  Job  Credit amount  Duration  Sex_male   Housing_own  Housing_rent  \\\n",
              "0     67    1           1169         6          1            1             0   \n",
              "1     22    1           5951        48          0            1             0   \n",
              "2     49    3           2096        12          1            1             0   \n",
              "3     45    1           7882        42          1            0             0   \n",
              "4     53    1           4870        24          1            0             0   \n",
              "..   ...  ...            ...       ...        ...          ...           ...   \n",
              "995   31    3           1736        12          0            1             0   \n",
              "996   40    0           3857        30          1            1             0   \n",
              "997   38    1            804        12          1            1             0   \n",
              "998   23    1           1845        45          1            0             0   \n",
              "999   27    1           4576        45          1            1             0   \n",
              "\n",
              "     Saving accounts_moderate  Saving accounts_quite rich  \\\n",
              "0                           0                           0   \n",
              "1                           0                           0   \n",
              "2                           0                           0   \n",
              "3                           0                           0   \n",
              "4                           0                           0   \n",
              "..                        ...                         ...   \n",
              "995                         0                           0   \n",
              "996                         0                           0   \n",
              "997                         0                           0   \n",
              "998                         0                           0   \n",
              "999                         1                           0   \n",
              "\n",
              "     Saving accounts_rich  ...  Purpose_business  Purpose_car (new)  \\\n",
              "0                       0  ...                 0                  0   \n",
              "1                       0  ...                 0                  0   \n",
              "2                       0  ...                 0                  0   \n",
              "3                       0  ...                 0                  0   \n",
              "4                       0  ...                 0                  1   \n",
              "..                    ...  ...               ...                ...   \n",
              "995                     0  ...                 0                  0   \n",
              "996                     0  ...                 0                  0   \n",
              "997                     0  ...                 0                  0   \n",
              "998                     0  ...                 0                  0   \n",
              "999                     0  ...                 0                  0   \n",
              "\n",
              "     Purpose_car (used)  Purpose_domestic appliances  Purpose_education  \\\n",
              "0                     0                            1                  0   \n",
              "1                     0                            1                  0   \n",
              "2                     0                            0                  0   \n",
              "3                     0                            0                  0   \n",
              "4                     0                            0                  0   \n",
              "..                  ...                          ...                ...   \n",
              "995                   0                            0                  0   \n",
              "996                   1                            0                  0   \n",
              "997                   0                            1                  0   \n",
              "998                   0                            1                  0   \n",
              "999                   1                            0                  0   \n",
              "\n",
              "     Purpose_furniture/equipment  Purpose_radio/television  Purpose_repairs  \\\n",
              "0                              0                         0                0   \n",
              "1                              0                         0                0   \n",
              "2                              0                         0                0   \n",
              "3                              0                         1                0   \n",
              "4                              0                         0                0   \n",
              "..                           ...                       ...              ...   \n",
              "995                            0                         1                0   \n",
              "996                            0                         0                0   \n",
              "997                            0                         0                0   \n",
              "998                            0                         0                0   \n",
              "999                            0                         0                0   \n",
              "\n",
              "     Purpose_retraining  Risk_good  \n",
              "0                     0          1  \n",
              "1                     0          0  \n",
              "2                     0          1  \n",
              "3                     0          1  \n",
              "4                     0          0  \n",
              "..                  ...        ...  \n",
              "995                   0          1  \n",
              "996                   0          1  \n",
              "997                   0          1  \n",
              "998                   0          0  \n",
              "999                   0          1  \n",
              "\n",
              "[1000 rows x 22 columns]"
            ]
          },
          "execution_count": 105,
          "metadata": {},
          "output_type": "execute_result"
        }
      ],
      "source": [
        "df_credit_data_3"
      ]
    },
    {
      "cell_type": "code",
      "execution_count": 106,
      "metadata": {
        "colab": {
          "base_uri": "https://localhost:8080/",
          "height": 964
        },
        "id": "q-eKwuHUWaXZ",
        "outputId": "8d84e284-f2dd-4977-885f-434054f0ee74"
      },
      "outputs": [
        {
          "data": {
            "image/png": "[encoded data removed]",
            "text/plain": [
              "<Figure size 1656x1008 with 2 Axes>"
            ]
          },
          "metadata": {
            "needs_background": "light"
          },
          "output_type": "display_data"
        }
      ],
      "source": [
        "# Matriz de correlación\n",
        "plt.figure(figsize = (23, 14))\n",
        "cmap = sns.diverging_palette(0, 100, sep = 20)\n",
        "sns.heatmap(df_credit_data_3.corr(), annot = True, cmap = cmap, center = 0).set_title(\"Correlation Heatmap\", fontsize = 16)\n",
        "plt.show()"
      ]
    },
    {
      "cell_type": "markdown",
      "metadata": {
        "id": "76H52JHX2V4a"
      },
      "source": [
        "Se elimina alguna de las variables altamente correlacionadas. \"Housing_rent\" esta bastante correlacionado con \"Housing_own\"."
      ]
    },
    {
      "cell_type": "code",
      "execution_count": 107,
      "metadata": {
        "id": "wMhzsG36WaXZ"
      },
      "outputs": [],
      "source": [
        "df_credit_data_3 = df_credit_data_3.drop(columns = ['Housing_rent'])"
      ]
    },
    {
      "cell_type": "code",
      "execution_count": 108,
      "metadata": {
        "colab": {
          "base_uri": "https://localhost:8080/",
          "height": 522
        },
        "id": "XbMyIW3TQ-JZ",
        "outputId": "380e3bb5-9f92-4476-8690-37898bbc36fa"
      },
      "outputs": [
        {
          "data": {
            "text/html": [
              "<div>\n",
              "<style scoped>\n",
              "    .dataframe tbody tr th:only-of-type {\n",
              "        vertical-align: middle;\n",
              "    }\n",
              "\n",
              "    .dataframe tbody tr th {\n",
              "        vertical-align: top;\n",
              "    }\n",
              "\n",
              "    .dataframe thead th {\n",
              "        text-align: right;\n",
              "    }\n",
              "</style>\n",
              "<table border=\"1\" class=\"dataframe\">\n",
              "  <thead>\n",
              "    <tr style=\"text-align: right;\">\n",
              "      <th></th>\n",
              "      <th>Age</th>\n",
              "      <th>Job</th>\n",
              "      <th>Credit amount</th>\n",
              "      <th>Duration</th>\n",
              "      <th>Sex_male</th>\n",
              "      <th>Housing_own</th>\n",
              "      <th>Saving accounts_moderate</th>\n",
              "      <th>Saving accounts_quite rich</th>\n",
              "      <th>Saving accounts_rich</th>\n",
              "      <th>Checking account_moderate</th>\n",
              "      <th>...</th>\n",
              "      <th>Purpose_business</th>\n",
              "      <th>Purpose_car (new)</th>\n",
              "      <th>Purpose_car (used)</th>\n",
              "      <th>Purpose_domestic appliances</th>\n",
              "      <th>Purpose_education</th>\n",
              "      <th>Purpose_furniture/equipment</th>\n",
              "      <th>Purpose_radio/television</th>\n",
              "      <th>Purpose_repairs</th>\n",
              "      <th>Purpose_retraining</th>\n",
              "      <th>Risk_good</th>\n",
              "    </tr>\n",
              "  </thead>\n",
              "  <tbody>\n",
              "    <tr>\n",
              "      <th>0</th>\n",
              "      <td>67</td>\n",
              "      <td>1</td>\n",
              "      <td>1169</td>\n",
              "      <td>6</td>\n",
              "      <td>1</td>\n",
              "      <td>1</td>\n",
              "      <td>0</td>\n",
              "      <td>0</td>\n",
              "      <td>0</td>\n",
              "      <td>0</td>\n",
              "      <td>...</td>\n",
              "      <td>0</td>\n",
              "      <td>0</td>\n",
              "      <td>0</td>\n",
              "      <td>1</td>\n",
              "      <td>0</td>\n",
              "      <td>0</td>\n",
              "      <td>0</td>\n",
              "      <td>0</td>\n",
              "      <td>0</td>\n",
              "      <td>1</td>\n",
              "    </tr>\n",
              "    <tr>\n",
              "      <th>1</th>\n",
              "      <td>22</td>\n",
              "      <td>1</td>\n",
              "      <td>5951</td>\n",
              "      <td>48</td>\n",
              "      <td>0</td>\n",
              "      <td>1</td>\n",
              "      <td>0</td>\n",
              "      <td>0</td>\n",
              "      <td>0</td>\n",
              "      <td>1</td>\n",
              "      <td>...</td>\n",
              "      <td>0</td>\n",
              "      <td>0</td>\n",
              "      <td>0</td>\n",
              "      <td>1</td>\n",
              "      <td>0</td>\n",
              "      <td>0</td>\n",
              "      <td>0</td>\n",
              "      <td>0</td>\n",
              "      <td>0</td>\n",
              "      <td>0</td>\n",
              "    </tr>\n",
              "    <tr>\n",
              "      <th>2</th>\n",
              "      <td>49</td>\n",
              "      <td>3</td>\n",
              "      <td>2096</td>\n",
              "      <td>12</td>\n",
              "      <td>1</td>\n",
              "      <td>1</td>\n",
              "      <td>0</td>\n",
              "      <td>0</td>\n",
              "      <td>0</td>\n",
              "      <td>0</td>\n",
              "      <td>...</td>\n",
              "      <td>0</td>\n",
              "      <td>0</td>\n",
              "      <td>0</td>\n",
              "      <td>0</td>\n",
              "      <td>0</td>\n",
              "      <td>0</td>\n",
              "      <td>0</td>\n",
              "      <td>0</td>\n",
              "      <td>0</td>\n",
              "      <td>1</td>\n",
              "    </tr>\n",
              "    <tr>\n",
              "      <th>3</th>\n",
              "      <td>45</td>\n",
              "      <td>1</td>\n",
              "      <td>7882</td>\n",
              "      <td>42</td>\n",
              "      <td>1</td>\n",
              "      <td>0</td>\n",
              "      <td>0</td>\n",
              "      <td>0</td>\n",
              "      <td>0</td>\n",
              "      <td>0</td>\n",
              "      <td>...</td>\n",
              "      <td>0</td>\n",
              "      <td>0</td>\n",
              "      <td>0</td>\n",
              "      <td>0</td>\n",
              "      <td>0</td>\n",
              "      <td>0</td>\n",
              "      <td>1</td>\n",
              "      <td>0</td>\n",
              "      <td>0</td>\n",
              "      <td>1</td>\n",
              "    </tr>\n",
              "    <tr>\n",
              "      <th>4</th>\n",
              "      <td>53</td>\n",
              "      <td>1</td>\n",
              "      <td>4870</td>\n",
              "      <td>24</td>\n",
              "      <td>1</td>\n",
              "      <td>0</td>\n",
              "      <td>0</td>\n",
              "      <td>0</td>\n",
              "      <td>0</td>\n",
              "      <td>0</td>\n",
              "      <td>...</td>\n",
              "      <td>0</td>\n",
              "      <td>1</td>\n",
              "      <td>0</td>\n",
              "      <td>0</td>\n",
              "      <td>0</td>\n",
              "      <td>0</td>\n",
              "      <td>0</td>\n",
              "      <td>0</td>\n",
              "      <td>0</td>\n",
              "      <td>0</td>\n",
              "    </tr>\n",
              "    <tr>\n",
              "      <th>...</th>\n",
              "      <td>...</td>\n",
              "      <td>...</td>\n",
              "      <td>...</td>\n",
              "      <td>...</td>\n",
              "      <td>...</td>\n",
              "      <td>...</td>\n",
              "      <td>...</td>\n",
              "      <td>...</td>\n",
              "      <td>...</td>\n",
              "      <td>...</td>\n",
              "      <td>...</td>\n",
              "      <td>...</td>\n",
              "      <td>...</td>\n",
              "      <td>...</td>\n",
              "      <td>...</td>\n",
              "      <td>...</td>\n",
              "      <td>...</td>\n",
              "      <td>...</td>\n",
              "      <td>...</td>\n",
              "      <td>...</td>\n",
              "      <td>...</td>\n",
              "    </tr>\n",
              "    <tr>\n",
              "      <th>995</th>\n",
              "      <td>31</td>\n",
              "      <td>3</td>\n",
              "      <td>1736</td>\n",
              "      <td>12</td>\n",
              "      <td>0</td>\n",
              "      <td>1</td>\n",
              "      <td>0</td>\n",
              "      <td>0</td>\n",
              "      <td>0</td>\n",
              "      <td>0</td>\n",
              "      <td>...</td>\n",
              "      <td>0</td>\n",
              "      <td>0</td>\n",
              "      <td>0</td>\n",
              "      <td>0</td>\n",
              "      <td>0</td>\n",
              "      <td>0</td>\n",
              "      <td>1</td>\n",
              "      <td>0</td>\n",
              "      <td>0</td>\n",
              "      <td>1</td>\n",
              "    </tr>\n",
              "    <tr>\n",
              "      <th>996</th>\n",
              "      <td>40</td>\n",
              "      <td>0</td>\n",
              "      <td>3857</td>\n",
              "      <td>30</td>\n",
              "      <td>1</td>\n",
              "      <td>1</td>\n",
              "      <td>0</td>\n",
              "      <td>0</td>\n",
              "      <td>0</td>\n",
              "      <td>0</td>\n",
              "      <td>...</td>\n",
              "      <td>0</td>\n",
              "      <td>0</td>\n",
              "      <td>1</td>\n",
              "      <td>0</td>\n",
              "      <td>0</td>\n",
              "      <td>0</td>\n",
              "      <td>0</td>\n",
              "      <td>0</td>\n",
              "      <td>0</td>\n",
              "      <td>1</td>\n",
              "    </tr>\n",
              "    <tr>\n",
              "      <th>997</th>\n",
              "      <td>38</td>\n",
              "      <td>1</td>\n",
              "      <td>804</td>\n",
              "      <td>12</td>\n",
              "      <td>1</td>\n",
              "      <td>1</td>\n",
              "      <td>0</td>\n",
              "      <td>0</td>\n",
              "      <td>0</td>\n",
              "      <td>0</td>\n",
              "      <td>...</td>\n",
              "      <td>0</td>\n",
              "      <td>0</td>\n",
              "      <td>0</td>\n",
              "      <td>1</td>\n",
              "      <td>0</td>\n",
              "      <td>0</td>\n",
              "      <td>0</td>\n",
              "      <td>0</td>\n",
              "      <td>0</td>\n",
              "      <td>1</td>\n",
              "    </tr>\n",
              "    <tr>\n",
              "      <th>998</th>\n",
              "      <td>23</td>\n",
              "      <td>1</td>\n",
              "      <td>1845</td>\n",
              "      <td>45</td>\n",
              "      <td>1</td>\n",
              "      <td>0</td>\n",
              "      <td>0</td>\n",
              "      <td>0</td>\n",
              "      <td>0</td>\n",
              "      <td>0</td>\n",
              "      <td>...</td>\n",
              "      <td>0</td>\n",
              "      <td>0</td>\n",
              "      <td>0</td>\n",
              "      <td>1</td>\n",
              "      <td>0</td>\n",
              "      <td>0</td>\n",
              "      <td>0</td>\n",
              "      <td>0</td>\n",
              "      <td>0</td>\n",
              "      <td>0</td>\n",
              "    </tr>\n",
              "    <tr>\n",
              "      <th>999</th>\n",
              "      <td>27</td>\n",
              "      <td>1</td>\n",
              "      <td>4576</td>\n",
              "      <td>45</td>\n",
              "      <td>1</td>\n",
              "      <td>1</td>\n",
              "      <td>1</td>\n",
              "      <td>0</td>\n",
              "      <td>0</td>\n",
              "      <td>1</td>\n",
              "      <td>...</td>\n",
              "      <td>0</td>\n",
              "      <td>0</td>\n",
              "      <td>1</td>\n",
              "      <td>0</td>\n",
              "      <td>0</td>\n",
              "      <td>0</td>\n",
              "      <td>0</td>\n",
              "      <td>0</td>\n",
              "      <td>0</td>\n",
              "      <td>1</td>\n",
              "    </tr>\n",
              "  </tbody>\n",
              "</table>\n",
              "<p>1000 rows × 21 columns</p>\n",
              "</div>"
            ],
            "text/plain": [
              "     Age  Job  Credit amount  Duration  Sex_male   Housing_own  \\\n",
              "0     67    1           1169         6          1            1   \n",
              "1     22    1           5951        48          0            1   \n",
              "2     49    3           2096        12          1            1   \n",
              "3     45    1           7882        42          1            0   \n",
              "4     53    1           4870        24          1            0   \n",
              "..   ...  ...            ...       ...        ...          ...   \n",
              "995   31    3           1736        12          0            1   \n",
              "996   40    0           3857        30          1            1   \n",
              "997   38    1            804        12          1            1   \n",
              "998   23    1           1845        45          1            0   \n",
              "999   27    1           4576        45          1            1   \n",
              "\n",
              "     Saving accounts_moderate  Saving accounts_quite rich  \\\n",
              "0                           0                           0   \n",
              "1                           0                           0   \n",
              "2                           0                           0   \n",
              "3                           0                           0   \n",
              "4                           0                           0   \n",
              "..                        ...                         ...   \n",
              "995                         0                           0   \n",
              "996                         0                           0   \n",
              "997                         0                           0   \n",
              "998                         0                           0   \n",
              "999                         1                           0   \n",
              "\n",
              "     Saving accounts_rich  Checking account_moderate  ...  Purpose_business  \\\n",
              "0                       0                          0  ...                 0   \n",
              "1                       0                          1  ...                 0   \n",
              "2                       0                          0  ...                 0   \n",
              "3                       0                          0  ...                 0   \n",
              "4                       0                          0  ...                 0   \n",
              "..                    ...                        ...  ...               ...   \n",
              "995                     0                          0  ...                 0   \n",
              "996                     0                          0  ...                 0   \n",
              "997                     0                          0  ...                 0   \n",
              "998                     0                          0  ...                 0   \n",
              "999                     0                          1  ...                 0   \n",
              "\n",
              "     Purpose_car (new)  Purpose_car (used)  Purpose_domestic appliances  \\\n",
              "0                    0                   0                            1   \n",
              "1                    0                   0                            1   \n",
              "2                    0                   0                            0   \n",
              "3                    0                   0                            0   \n",
              "4                    1                   0                            0   \n",
              "..                 ...                 ...                          ...   \n",
              "995                  0                   0                            0   \n",
              "996                  0                   1                            0   \n",
              "997                  0                   0                            1   \n",
              "998                  0                   0                            1   \n",
              "999                  0                   1                            0   \n",
              "\n",
              "     Purpose_education  Purpose_furniture/equipment  Purpose_radio/television  \\\n",
              "0                    0                            0                         0   \n",
              "1                    0                            0                         0   \n",
              "2                    0                            0                         0   \n",
              "3                    0                            0                         1   \n",
              "4                    0                            0                         0   \n",
              "..                 ...                          ...                       ...   \n",
              "995                  0                            0                         1   \n",
              "996                  0                            0                         0   \n",
              "997                  0                            0                         0   \n",
              "998                  0                            0                         0   \n",
              "999                  0                            0                         0   \n",
              "\n",
              "     Purpose_repairs  Purpose_retraining  Risk_good  \n",
              "0                  0                   0          1  \n",
              "1                  0                   0          0  \n",
              "2                  0                   0          1  \n",
              "3                  0                   0          1  \n",
              "4                  0                   0          0  \n",
              "..               ...                 ...        ...  \n",
              "995                0                   0          1  \n",
              "996                0                   0          1  \n",
              "997                0                   0          1  \n",
              "998                0                   0          0  \n",
              "999                0                   0          1  \n",
              "\n",
              "[1000 rows x 21 columns]"
            ]
          },
          "execution_count": 108,
          "metadata": {},
          "output_type": "execute_result"
        }
      ],
      "source": [
        "df_credit_data_3"
      ]
    },
    {
      "cell_type": "markdown",
      "metadata": {
        "id": "3sp4bw7r3EFU"
      },
      "source": [
        "Otra forma de hacer OHE"
      ]
    },
    {
      "cell_type": "code",
      "execution_count": 109,
      "metadata": {
        "id": "_eI3tGxI3F9z"
      },
      "outputs": [],
      "source": [
        "from sklearn.preprocessing import OneHotEncoder\n",
        "\n",
        "housing_OHE = OneHotEncoder(handle_unknown='ignore')\n",
        "housing = housing_OHE.fit_transform(df_credit_data[\"Housing\"].to_numpy().reshape(-1, 1))\n",
        "housing = housing.toarray()"
      ]
    },
    {
      "cell_type": "code",
      "execution_count": 110,
      "metadata": {
        "colab": {
          "base_uri": "https://localhost:8080/"
        },
        "id": "Gn_1bRja3TEM",
        "outputId": "5d854b36-3650-4f33-f6a4-5e2083788b6d"
      },
      "outputs": [
        {
          "data": {
            "text/plain": [
              "array([[0., 1., 0.],\n",
              "       [0., 1., 0.],\n",
              "       [0., 1., 0.],\n",
              "       ...,\n",
              "       [0., 1., 0.],\n",
              "       [1., 0., 0.],\n",
              "       [0., 1., 0.]])"
            ]
          },
          "execution_count": 110,
          "metadata": {},
          "output_type": "execute_result"
        }
      ],
      "source": [
        "housing"
      ]
    },
    {
      "cell_type": "code",
      "execution_count": 111,
      "metadata": {
        "colab": {
          "base_uri": "https://localhost:8080/"
        },
        "id": "NGI6fl0d3yNb",
        "outputId": "5a4c1ad8-3458-4f86-88a0-9b0e2435300f"
      },
      "outputs": [
        {
          "data": {
            "text/plain": [
              "array([['own']], dtype=object)"
            ]
          },
          "execution_count": 111,
          "metadata": {},
          "output_type": "execute_result"
        }
      ],
      "source": [
        "housing_OHE.inverse_transform([[0., 1., 0.]])"
      ]
    },
    {
      "cell_type": "code",
      "execution_count": 112,
      "metadata": {
        "colab": {
          "base_uri": "https://localhost:8080/"
        },
        "id": "W2Q14ret4Eab",
        "outputId": "7842bb58-5bd8-4934-d73c-22daec43c89c"
      },
      "outputs": [
        {
          "data": {
            "text/plain": [
              "array([['rent']], dtype=object)"
            ]
          },
          "execution_count": 112,
          "metadata": {},
          "output_type": "execute_result"
        }
      ],
      "source": [
        "housing_OHE.inverse_transform([[0., 0., 1.]])"
      ]
    },
    {
      "cell_type": "markdown",
      "metadata": {
        "id": "ZCtasDnvWaXa"
      },
      "source": [
        "### Feature Scaling"
      ]
    },
    {
      "cell_type": "markdown",
      "metadata": {
        "id": "eOgtYNi_7K5E"
      },
      "source": [
        "#### MinMaxScaler"
      ]
    },
    {
      "cell_type": "code",
      "execution_count": 113,
      "metadata": {
        "id": "DwksnXNIWaXa"
      },
      "outputs": [],
      "source": [
        "scaler = MinMaxScaler(feature_range = (0, 1)) # indico el rango objetivo"
      ]
    },
    {
      "cell_type": "code",
      "execution_count": 114,
      "metadata": {
        "id": "x8Ltb5E1WaXa"
      },
      "outputs": [],
      "source": [
        "norm = scaler.fit_transform(df_credit_data_3)"
      ]
    },
    {
      "cell_type": "markdown",
      "metadata": {
        "id": "0Qdwx0Tc5qd6"
      },
      "source": [
        "NOTA: Con el scaler podemos hacer .fit() y luego .transform(). El .fit() crea un objeto entrenado para los datos, y el .transform() crea el ndarray. Esto es importante cuando hagamos separación de datos en train, val, test."
      ]
    },
    {
      "cell_type": "code",
      "execution_count": 115,
      "metadata": {
        "colab": {
          "base_uri": "https://localhost:8080/"
        },
        "id": "LfG9J6AH46QB",
        "outputId": "06bed082-badd-4786-9544-6afefbf008af"
      },
      "outputs": [
        {
          "data": {
            "text/plain": [
              "numpy.ndarray"
            ]
          },
          "execution_count": 115,
          "metadata": {},
          "output_type": "execute_result"
        }
      ],
      "source": [
        "type(norm)"
      ]
    },
    {
      "cell_type": "code",
      "execution_count": 116,
      "metadata": {
        "colab": {
          "base_uri": "https://localhost:8080/"
        },
        "id": "lPo2hvA5WaXa",
        "outputId": "2180eefa-d5ee-4bb3-81b2-4ff6cc04aec3"
      },
      "outputs": [
        {
          "data": {
            "text/plain": [
              "array([[0.85714286, 0.33333333, 0.05056674, ..., 0.        , 0.        ,\n",
              "        1.        ],\n",
              "       [0.05357143, 0.33333333, 0.31368989, ..., 0.        , 0.        ,\n",
              "        0.        ],\n",
              "       [0.53571429, 1.        , 0.10157368, ..., 0.        , 0.        ,\n",
              "        1.        ],\n",
              "       ...,\n",
              "       [0.33928571, 0.33333333, 0.03048311, ..., 0.        , 0.        ,\n",
              "        1.        ],\n",
              "       [0.07142857, 0.33333333, 0.08776274, ..., 0.        , 0.        ,\n",
              "        0.        ],\n",
              "       [0.14285714, 0.33333333, 0.23803235, ..., 0.        , 0.        ,\n",
              "        1.        ]])"
            ]
          },
          "execution_count": 116,
          "metadata": {},
          "output_type": "execute_result"
        }
      ],
      "source": [
        "norm"
      ]
    },
    {
      "cell_type": "code",
      "execution_count": 117,
      "metadata": {
        "id": "xhxGqfBlWaXb"
      },
      "outputs": [],
      "source": [
        "df_norm = pd.DataFrame(norm, columns = df_credit_data_3.columns)"
      ]
    },
    {
      "cell_type": "code",
      "execution_count": 118,
      "metadata": {
        "colab": {
          "base_uri": "https://localhost:8080/",
          "height": 522
        },
        "id": "mZPOu3f5WaXb",
        "outputId": "86a30f01-89cf-433f-9920-62a182cd44ce"
      },
      "outputs": [
        {
          "data": {
            "text/html": [
              "<div>\n",
              "<style scoped>\n",
              "    .dataframe tbody tr th:only-of-type {\n",
              "        vertical-align: middle;\n",
              "    }\n",
              "\n",
              "    .dataframe tbody tr th {\n",
              "        vertical-align: top;\n",
              "    }\n",
              "\n",
              "    .dataframe thead th {\n",
              "        text-align: right;\n",
              "    }\n",
              "</style>\n",
              "<table border=\"1\" class=\"dataframe\">\n",
              "  <thead>\n",
              "    <tr style=\"text-align: right;\">\n",
              "      <th></th>\n",
              "      <th>Age</th>\n",
              "      <th>Job</th>\n",
              "      <th>Credit amount</th>\n",
              "      <th>Duration</th>\n",
              "      <th>Sex_male</th>\n",
              "      <th>Housing_own</th>\n",
              "      <th>Saving accounts_moderate</th>\n",
              "      <th>Saving accounts_quite rich</th>\n",
              "      <th>Saving accounts_rich</th>\n",
              "      <th>Checking account_moderate</th>\n",
              "      <th>...</th>\n",
              "      <th>Purpose_business</th>\n",
              "      <th>Purpose_car (new)</th>\n",
              "      <th>Purpose_car (used)</th>\n",
              "      <th>Purpose_domestic appliances</th>\n",
              "      <th>Purpose_education</th>\n",
              "      <th>Purpose_furniture/equipment</th>\n",
              "      <th>Purpose_radio/television</th>\n",
              "      <th>Purpose_repairs</th>\n",
              "      <th>Purpose_retraining</th>\n",
              "      <th>Risk_good</th>\n",
              "    </tr>\n",
              "  </thead>\n",
              "  <tbody>\n",
              "    <tr>\n",
              "      <th>0</th>\n",
              "      <td>0.857143</td>\n",
              "      <td>0.333333</td>\n",
              "      <td>0.050567</td>\n",
              "      <td>0.029412</td>\n",
              "      <td>1.0</td>\n",
              "      <td>1.0</td>\n",
              "      <td>0.0</td>\n",
              "      <td>0.0</td>\n",
              "      <td>0.0</td>\n",
              "      <td>0.0</td>\n",
              "      <td>...</td>\n",
              "      <td>0.0</td>\n",
              "      <td>0.0</td>\n",
              "      <td>0.0</td>\n",
              "      <td>1.0</td>\n",
              "      <td>0.0</td>\n",
              "      <td>0.0</td>\n",
              "      <td>0.0</td>\n",
              "      <td>0.0</td>\n",
              "      <td>0.0</td>\n",
              "      <td>1.0</td>\n",
              "    </tr>\n",
              "    <tr>\n",
              "      <th>1</th>\n",
              "      <td>0.053571</td>\n",
              "      <td>0.333333</td>\n",
              "      <td>0.313690</td>\n",
              "      <td>0.647059</td>\n",
              "      <td>0.0</td>\n",
              "      <td>1.0</td>\n",
              "      <td>0.0</td>\n",
              "      <td>0.0</td>\n",
              "      <td>0.0</td>\n",
              "      <td>1.0</td>\n",
              "      <td>...</td>\n",
              "      <td>0.0</td>\n",
              "      <td>0.0</td>\n",
              "      <td>0.0</td>\n",
              "      <td>1.0</td>\n",
              "      <td>0.0</td>\n",
              "      <td>0.0</td>\n",
              "      <td>0.0</td>\n",
              "      <td>0.0</td>\n",
              "      <td>0.0</td>\n",
              "      <td>0.0</td>\n",
              "    </tr>\n",
              "    <tr>\n",
              "      <th>2</th>\n",
              "      <td>0.535714</td>\n",
              "      <td>1.000000</td>\n",
              "      <td>0.101574</td>\n",
              "      <td>0.117647</td>\n",
              "      <td>1.0</td>\n",
              "      <td>1.0</td>\n",
              "      <td>0.0</td>\n",
              "      <td>0.0</td>\n",
              "      <td>0.0</td>\n",
              "      <td>0.0</td>\n",
              "      <td>...</td>\n",
              "      <td>0.0</td>\n",
              "      <td>0.0</td>\n",
              "      <td>0.0</td>\n",
              "      <td>0.0</td>\n",
              "      <td>0.0</td>\n",
              "      <td>0.0</td>\n",
              "      <td>0.0</td>\n",
              "      <td>0.0</td>\n",
              "      <td>0.0</td>\n",
              "      <td>1.0</td>\n",
              "    </tr>\n",
              "    <tr>\n",
              "      <th>3</th>\n",
              "      <td>0.464286</td>\n",
              "      <td>0.333333</td>\n",
              "      <td>0.419941</td>\n",
              "      <td>0.558824</td>\n",
              "      <td>1.0</td>\n",
              "      <td>0.0</td>\n",
              "      <td>0.0</td>\n",
              "      <td>0.0</td>\n",
              "      <td>0.0</td>\n",
              "      <td>0.0</td>\n",
              "      <td>...</td>\n",
              "      <td>0.0</td>\n",
              "      <td>0.0</td>\n",
              "      <td>0.0</td>\n",
              "      <td>0.0</td>\n",
              "      <td>0.0</td>\n",
              "      <td>0.0</td>\n",
              "      <td>1.0</td>\n",
              "      <td>0.0</td>\n",
              "      <td>0.0</td>\n",
              "      <td>1.0</td>\n",
              "    </tr>\n",
              "    <tr>\n",
              "      <th>4</th>\n",
              "      <td>0.607143</td>\n",
              "      <td>0.333333</td>\n",
              "      <td>0.254209</td>\n",
              "      <td>0.294118</td>\n",
              "      <td>1.0</td>\n",
              "      <td>0.0</td>\n",
              "      <td>0.0</td>\n",
              "      <td>0.0</td>\n",
              "      <td>0.0</td>\n",
              "      <td>0.0</td>\n",
              "      <td>...</td>\n",
              "      <td>0.0</td>\n",
              "      <td>1.0</td>\n",
              "      <td>0.0</td>\n",
              "      <td>0.0</td>\n",
              "      <td>0.0</td>\n",
              "      <td>0.0</td>\n",
              "      <td>0.0</td>\n",
              "      <td>0.0</td>\n",
              "      <td>0.0</td>\n",
              "      <td>0.0</td>\n",
              "    </tr>\n",
              "    <tr>\n",
              "      <th>...</th>\n",
              "      <td>...</td>\n",
              "      <td>...</td>\n",
              "      <td>...</td>\n",
              "      <td>...</td>\n",
              "      <td>...</td>\n",
              "      <td>...</td>\n",
              "      <td>...</td>\n",
              "      <td>...</td>\n",
              "      <td>...</td>\n",
              "      <td>...</td>\n",
              "      <td>...</td>\n",
              "      <td>...</td>\n",
              "      <td>...</td>\n",
              "      <td>...</td>\n",
              "      <td>...</td>\n",
              "      <td>...</td>\n",
              "      <td>...</td>\n",
              "      <td>...</td>\n",
              "      <td>...</td>\n",
              "      <td>...</td>\n",
              "      <td>...</td>\n",
              "    </tr>\n",
              "    <tr>\n",
              "      <th>995</th>\n",
              "      <td>0.214286</td>\n",
              "      <td>1.000000</td>\n",
              "      <td>0.081765</td>\n",
              "      <td>0.117647</td>\n",
              "      <td>0.0</td>\n",
              "      <td>1.0</td>\n",
              "      <td>0.0</td>\n",
              "      <td>0.0</td>\n",
              "      <td>0.0</td>\n",
              "      <td>0.0</td>\n",
              "      <td>...</td>\n",
              "      <td>0.0</td>\n",
              "      <td>0.0</td>\n",
              "      <td>0.0</td>\n",
              "      <td>0.0</td>\n",
              "      <td>0.0</td>\n",
              "      <td>0.0</td>\n",
              "      <td>1.0</td>\n",
              "      <td>0.0</td>\n",
              "      <td>0.0</td>\n",
              "      <td>1.0</td>\n",
              "    </tr>\n",
              "    <tr>\n",
              "      <th>996</th>\n",
              "      <td>0.375000</td>\n",
              "      <td>0.000000</td>\n",
              "      <td>0.198470</td>\n",
              "      <td>0.382353</td>\n",
              "      <td>1.0</td>\n",
              "      <td>1.0</td>\n",
              "      <td>0.0</td>\n",
              "      <td>0.0</td>\n",
              "      <td>0.0</td>\n",
              "      <td>0.0</td>\n",
              "      <td>...</td>\n",
              "      <td>0.0</td>\n",
              "      <td>0.0</td>\n",
              "      <td>1.0</td>\n",
              "      <td>0.0</td>\n",
              "      <td>0.0</td>\n",
              "      <td>0.0</td>\n",
              "      <td>0.0</td>\n",
              "      <td>0.0</td>\n",
              "      <td>0.0</td>\n",
              "      <td>1.0</td>\n",
              "    </tr>\n",
              "    <tr>\n",
              "      <th>997</th>\n",
              "      <td>0.339286</td>\n",
              "      <td>0.333333</td>\n",
              "      <td>0.030483</td>\n",
              "      <td>0.117647</td>\n",
              "      <td>1.0</td>\n",
              "      <td>1.0</td>\n",
              "      <td>0.0</td>\n",
              "      <td>0.0</td>\n",
              "      <td>0.0</td>\n",
              "      <td>0.0</td>\n",
              "      <td>...</td>\n",
              "      <td>0.0</td>\n",
              "      <td>0.0</td>\n",
              "      <td>0.0</td>\n",
              "      <td>1.0</td>\n",
              "      <td>0.0</td>\n",
              "      <td>0.0</td>\n",
              "      <td>0.0</td>\n",
              "      <td>0.0</td>\n",
              "      <td>0.0</td>\n",
              "      <td>1.0</td>\n",
              "    </tr>\n",
              "    <tr>\n",
              "      <th>998</th>\n",
              "      <td>0.071429</td>\n",
              "      <td>0.333333</td>\n",
              "      <td>0.087763</td>\n",
              "      <td>0.602941</td>\n",
              "      <td>1.0</td>\n",
              "      <td>0.0</td>\n",
              "      <td>0.0</td>\n",
              "      <td>0.0</td>\n",
              "      <td>0.0</td>\n",
              "      <td>0.0</td>\n",
              "      <td>...</td>\n",
              "      <td>0.0</td>\n",
              "      <td>0.0</td>\n",
              "      <td>0.0</td>\n",
              "      <td>1.0</td>\n",
              "      <td>0.0</td>\n",
              "      <td>0.0</td>\n",
              "      <td>0.0</td>\n",
              "      <td>0.0</td>\n",
              "      <td>0.0</td>\n",
              "      <td>0.0</td>\n",
              "    </tr>\n",
              "    <tr>\n",
              "      <th>999</th>\n",
              "      <td>0.142857</td>\n",
              "      <td>0.333333</td>\n",
              "      <td>0.238032</td>\n",
              "      <td>0.602941</td>\n",
              "      <td>1.0</td>\n",
              "      <td>1.0</td>\n",
              "      <td>1.0</td>\n",
              "      <td>0.0</td>\n",
              "      <td>0.0</td>\n",
              "      <td>1.0</td>\n",
              "      <td>...</td>\n",
              "      <td>0.0</td>\n",
              "      <td>0.0</td>\n",
              "      <td>1.0</td>\n",
              "      <td>0.0</td>\n",
              "      <td>0.0</td>\n",
              "      <td>0.0</td>\n",
              "      <td>0.0</td>\n",
              "      <td>0.0</td>\n",
              "      <td>0.0</td>\n",
              "      <td>1.0</td>\n",
              "    </tr>\n",
              "  </tbody>\n",
              "</table>\n",
              "<p>1000 rows × 21 columns</p>\n",
              "</div>"
            ],
            "text/plain": [
              "          Age       Job  Credit amount  Duration  Sex_male   Housing_own  \\\n",
              "0    0.857143  0.333333       0.050567  0.029412        1.0          1.0   \n",
              "1    0.053571  0.333333       0.313690  0.647059        0.0          1.0   \n",
              "2    0.535714  1.000000       0.101574  0.117647        1.0          1.0   \n",
              "3    0.464286  0.333333       0.419941  0.558824        1.0          0.0   \n",
              "4    0.607143  0.333333       0.254209  0.294118        1.0          0.0   \n",
              "..        ...       ...            ...       ...        ...          ...   \n",
              "995  0.214286  1.000000       0.081765  0.117647        0.0          1.0   \n",
              "996  0.375000  0.000000       0.198470  0.382353        1.0          1.0   \n",
              "997  0.339286  0.333333       0.030483  0.117647        1.0          1.0   \n",
              "998  0.071429  0.333333       0.087763  0.602941        1.0          0.0   \n",
              "999  0.142857  0.333333       0.238032  0.602941        1.0          1.0   \n",
              "\n",
              "     Saving accounts_moderate  Saving accounts_quite rich  \\\n",
              "0                         0.0                         0.0   \n",
              "1                         0.0                         0.0   \n",
              "2                         0.0                         0.0   \n",
              "3                         0.0                         0.0   \n",
              "4                         0.0                         0.0   \n",
              "..                        ...                         ...   \n",
              "995                       0.0                         0.0   \n",
              "996                       0.0                         0.0   \n",
              "997                       0.0                         0.0   \n",
              "998                       0.0                         0.0   \n",
              "999                       1.0                         0.0   \n",
              "\n",
              "     Saving accounts_rich  Checking account_moderate  ...  Purpose_business  \\\n",
              "0                     0.0                        0.0  ...               0.0   \n",
              "1                     0.0                        1.0  ...               0.0   \n",
              "2                     0.0                        0.0  ...               0.0   \n",
              "3                     0.0                        0.0  ...               0.0   \n",
              "4                     0.0                        0.0  ...               0.0   \n",
              "..                    ...                        ...  ...               ...   \n",
              "995                   0.0                        0.0  ...               0.0   \n",
              "996                   0.0                        0.0  ...               0.0   \n",
              "997                   0.0                        0.0  ...               0.0   \n",
              "998                   0.0                        0.0  ...               0.0   \n",
              "999                   0.0                        1.0  ...               0.0   \n",
              "\n",
              "     Purpose_car (new)  Purpose_car (used)  Purpose_domestic appliances  \\\n",
              "0                  0.0                 0.0                          1.0   \n",
              "1                  0.0                 0.0                          1.0   \n",
              "2                  0.0                 0.0                          0.0   \n",
              "3                  0.0                 0.0                          0.0   \n",
              "4                  1.0                 0.0                          0.0   \n",
              "..                 ...                 ...                          ...   \n",
              "995                0.0                 0.0                          0.0   \n",
              "996                0.0                 1.0                          0.0   \n",
              "997                0.0                 0.0                          1.0   \n",
              "998                0.0                 0.0                          1.0   \n",
              "999                0.0                 1.0                          0.0   \n",
              "\n",
              "     Purpose_education  Purpose_furniture/equipment  Purpose_radio/television  \\\n",
              "0                  0.0                          0.0                       0.0   \n",
              "1                  0.0                          0.0                       0.0   \n",
              "2                  0.0                          0.0                       0.0   \n",
              "3                  0.0                          0.0                       1.0   \n",
              "4                  0.0                          0.0                       0.0   \n",
              "..                 ...                          ...                       ...   \n",
              "995                0.0                          0.0                       1.0   \n",
              "996                0.0                          0.0                       0.0   \n",
              "997                0.0                          0.0                       0.0   \n",
              "998                0.0                          0.0                       0.0   \n",
              "999                0.0                          0.0                       0.0   \n",
              "\n",
              "     Purpose_repairs  Purpose_retraining  Risk_good  \n",
              "0                0.0                 0.0        1.0  \n",
              "1                0.0                 0.0        0.0  \n",
              "2                0.0                 0.0        1.0  \n",
              "3                0.0                 0.0        1.0  \n",
              "4                0.0                 0.0        0.0  \n",
              "..               ...                 ...        ...  \n",
              "995              0.0                 0.0        1.0  \n",
              "996              0.0                 0.0        1.0  \n",
              "997              0.0                 0.0        1.0  \n",
              "998              0.0                 0.0        0.0  \n",
              "999              0.0                 0.0        1.0  \n",
              "\n",
              "[1000 rows x 21 columns]"
            ]
          },
          "execution_count": 118,
          "metadata": {},
          "output_type": "execute_result"
        }
      ],
      "source": [
        "df_norm"
      ]
    },
    {
      "cell_type": "markdown",
      "metadata": {
        "id": "bePd1KDJ7Pnf"
      },
      "source": [
        "#### StandardScaler"
      ]
    },
    {
      "cell_type": "markdown",
      "metadata": {
        "id": "MsXRz_id7lh9"
      },
      "source": [
        "Estandarizar es restar la media a la variable y dividir por la desviación estandar. Se obtiene una distribucion de media cero, y desvio estandar uno.\n",
        "\n",
        "La estandarización de un conjunto de datos es un requisito común para muchos estimadores de aprendizaje automático. Estos podrian comportarse mal si las features individuales no se ven más o menos como datos estándar distribuidos normalmente (por ejemplo, gaussiano con media 0 y varianza unitaria).\n",
        "\n",
        "Muchos elementos utilizados en la función objetivo de un algoritmo de aprendizaje (como los regularizadores L1 y L2 de modelos lineales) asumen que todas las features se centran alrededor de 0 y tienen varianza en el mismo orden. Si una feature tiene una varianza que es de orden de magnitud mayor que otras, podría dominar a la función objetivo y hacer que el estimador no pueda aprender de otras features correctamente como se esperaba."
      ]
    },
    {
      "cell_type": "markdown",
      "metadata": {
        "id": "cb8Nrqhi9wZC"
      },
      "source": [
        "#####Ejercicio 6:  \n",
        "Investigar acerca del uso de StandardScaler, aplicarlo y crear un nuevo df a partir de df_credit_data_3 con los valores normalizados"
      ]
    },
    {
      "cell_type": "code",
      "execution_count": 119,
      "metadata": {
        "id": "y_ealhAz96uE"
      },
      "outputs": [],
      "source": [
        "# Su código"
      ]
    },
    {
      "cell_type": "markdown",
      "metadata": {
        "id": "rpEe6W1N6LpG"
      },
      "source": [
        "#####Ejercicio 7:  \n",
        "Ejecute el proceso de StandardScaler de manera manual para el primer valor de la variable Age. Compare resultados."
      ]
    },
    {
      "cell_type": "code",
      "execution_count": 120,
      "metadata": {
        "id": "k-E8u1129r3B"
      },
      "outputs": [],
      "source": [
        "# Su código"
      ]
    },
    {
      "cell_type": "markdown",
      "metadata": {
        "id": "W0C3zMu38O6U"
      },
      "source": [
        "Antes:"
      ]
    },
    {
      "cell_type": "code",
      "execution_count": 121,
      "metadata": {
        "colab": {
          "base_uri": "https://localhost:8080/",
          "height": 353
        },
        "id": "sqOoPBrc8ODo",
        "outputId": "a63863ae-6444-4b38-a734-2b5e995c95a0"
      },
      "outputs": [
        {
          "name": "stderr",
          "output_type": "stream",
          "text": [
            "c:\\Users\\crist\\anaconda3\\lib\\site-packages\\seaborn\\distributions.py:2619: FutureWarning: `distplot` is a deprecated function and will be removed in a future version. Please adapt your code to use either `displot` (a figure-level function with similar flexibility) or `histplot` (an axes-level function for histograms).\n",
            "  warnings.warn(msg, FutureWarning)\n"
          ]
        },
        {
          "data": {
            "text/plain": [
              "<AxesSubplot:xlabel='Age', ylabel='Density'>"
            ]
          },
          "execution_count": 121,
          "metadata": {},
          "output_type": "execute_result"
        },
        {
          "data": {
            "image/png": "[encoded data removed]",
            "text/plain": [
              "<Figure size 432x288 with 1 Axes>"
            ]
          },
          "metadata": {
            "needs_background": "light"
          },
          "output_type": "display_data"
        }
      ],
      "source": [
        "sns.distplot(df_credit_data_3.Age)"
      ]
    },
    {
      "cell_type": "markdown",
      "metadata": {
        "id": "qzqkfGsX8P0x"
      },
      "source": [
        "Después:"
      ]
    },
    {
      "cell_type": "code",
      "execution_count": 122,
      "metadata": {
        "colab": {
          "base_uri": "https://localhost:8080/",
          "height": 351
        },
        "id": "5CfE-rpB8Am0",
        "outputId": "d09fd59c-c3db-4a52-b6d6-646984e90fa0"
      },
      "outputs": [
        {
          "ename": "NameError",
          "evalue": "name 'df_std' is not defined",
          "output_type": "error",
          "traceback": [
            "\u001b[1;31m---------------------------------------------------------------------------\u001b[0m",
            "\u001b[1;31mNameError\u001b[0m                                 Traceback (most recent call last)",
            "\u001b[1;32mc:\\Users\\crist\\Documents\\GitHub\\ML\\practico2\\2_Feature_Selection.ipynb Celda 107\u001b[0m in \u001b[0;36m<cell line: 1>\u001b[1;34m()\u001b[0m\n\u001b[1;32m----> <a href='vscode-notebook-cell:/c%3A/Users/crist/Documents/GitHub/ML/practico2/2_Feature_Selection.ipynb#Y211sZmlsZQ%3D%3D?line=0'>1</a>\u001b[0m sns\u001b[39m.\u001b[39mdistplot(df_std\u001b[39m.\u001b[39mAge)\n",
            "\u001b[1;31mNameError\u001b[0m: name 'df_std' is not defined"
          ]
        }
      ],
      "source": [
        "sns.distplot(df_std.Age)"
      ]
    }
  ],
  "metadata": {
    "colab": {
      "collapsed_sections": [],
      "name": "Practico_3_Feature_Selection (1).ipynb",
      "provenance": []
    },
    "kernelspec": {
      "display_name": "Python 3.9.12 ('base')",
      "language": "python",
      "name": "python3"
    },
    "language_info": {
      "codemirror_mode": {
        "name": "ipython",
        "version": 3
      },
      "file_extension": ".py",
      "mimetype": "text/x-python",
      "name": "python",
      "nbconvert_exporter": "python",
      "pygments_lexer": "ipython3",
      "version": "3.9.12"
    },
    "vscode": {
      "interpreter": {
        "hash": "9470b8784b959759c7c699b367576c0be7b48eef9ff58c8b0d64956fc07e03c6"
      }
    }
  },
  "nbformat": 4,
  "nbformat_minor": 0
}
