{
  "cells": [
    {
      "cell_type": "markdown",
      "metadata": {
        "colab_type": "text",
        "id": "view-in-github"
      },
      "source": [
        "<a href=\"https://colab.research.google.com/github/Naokirlz/ML/blob/main/Pr%C3%A1ctico_1.ipynb\" target=\"_parent\"><img src=\"https://colab.research.google.com/assets/colab-badge.svg\" alt=\"Open In Colab\"/></a>"
      ]
    },
    {
      "cell_type": "markdown",
      "metadata": {
        "id": "XtywlSomay3v"
      },
      "source": [
        "**Práctico -1**\n"
      ]
    },
    {
      "cell_type": "code",
      "execution_count": 4,
      "metadata": {
        "colab": {
          "base_uri": "https://localhost:8080/"
        },
        "id": "9OGb2a0PaTkl",
        "outputId": "a40c80ec-f7f8-4e42-f9ac-4896522ae358"
      },
      "outputs": [
        {
          "data": {
            "text/plain": [
              "int"
            ]
          },
          "execution_count": 4,
          "metadata": {},
          "output_type": "execute_result"
        }
      ],
      "source": [
        "type(12)"
      ]
    },
    {
      "cell_type": "code",
      "execution_count": 5,
      "metadata": {
        "colab": {
          "base_uri": "https://localhost:8080/"
        },
        "id": "VuxSIQCDb3qF",
        "outputId": "97be0595-aa5e-4b49-aa76-35bdfab9fc29"
      },
      "outputs": [
        {
          "name": "stdout",
          "output_type": "stream",
          "text": [
            "<class 'int'>\n",
            "<class 'str'>\n"
          ]
        }
      ],
      "source": [
        "variable = 2\n",
        "print(type(variable))\n",
        "variable = \"32\"\n",
        "print(type(variable))\n"
      ]
    },
    {
      "cell_type": "code",
      "execution_count": 6,
      "metadata": {
        "colab": {
          "base_uri": "https://localhost:8080/",
          "height": 36
        },
        "id": "XNcrLY-BcI3s",
        "outputId": "c8802697-ccd2-4d4d-ff6c-91fcb7fa734d"
      },
      "outputs": [
        {
          "data": {
            "text/plain": [
              "'32'"
            ]
          },
          "execution_count": 6,
          "metadata": {},
          "output_type": "execute_result"
        }
      ],
      "source": [
        "(str(2) + variable)\n",
        "variable"
      ]
    },
    {
      "cell_type": "code",
      "execution_count": 7,
      "metadata": {
        "colab": {
          "base_uri": "https://localhost:8080/"
        },
        "id": "4xzagNAYdXs_",
        "outputId": "8a0801b1-c5ca-48ac-b2bb-ebb109b3c99f"
      },
      "outputs": [
        {
          "data": {
            "text/plain": [
              "10"
            ]
          },
          "execution_count": 7,
          "metadata": {},
          "output_type": "execute_result"
        }
      ],
      "source": [
        "nombre = input(\"jajaja?\")\n",
        "edad = int(input(\"edad?\"))\n",
        "edad*2"
      ]
    },
    {
      "cell_type": "code",
      "execution_count": 8,
      "metadata": {
        "colab": {
          "base_uri": "https://localhost:8080/"
        },
        "id": "iL6V4KHQdxss",
        "outputId": "5dfd558e-35d5-4a3e-b5ea-99cbccb076fb"
      },
      "outputs": [
        {
          "name": "stdout",
          "output_type": "stream",
          "text": [
            "Hola a tu edad es 50\n"
          ]
        }
      ],
      "source": [
        "print('Hola', nombre, 'tu edad es', edad*10)"
      ]
    },
    {
      "cell_type": "code",
      "execution_count": 9,
      "metadata": {
        "colab": {
          "base_uri": "https://localhost:8080/"
        },
        "id": "m3pxKxDAec5X",
        "outputId": "917c2b9a-2f50-425e-83da-fece40b0209e"
      },
      "outputs": [
        {
          "name": "stdout",
          "output_type": "stream",
          "text": [
            "viejo\n"
          ]
        }
      ],
      "source": [
        "edad = int(input(\"edad?\"))\n",
        "\n",
        "if edad < 20:\n",
        "  print ('chico')\n",
        "elif edad >=20 and edad <=40:\n",
        "  print ('joven')\n",
        "else:\n",
        "  print ('viejo')\n"
      ]
    },
    {
      "cell_type": "code",
      "execution_count": 10,
      "metadata": {
        "colab": {
          "base_uri": "https://localhost:8080/"
        },
        "id": "a0AYmhVKfMYk",
        "outputId": "2e1d883f-d748-49c4-d81c-a793dbd7d095"
      },
      "outputs": [
        {
          "name": "stdout",
          "output_type": "stream",
          "text": [
            "5\n",
            "6\n",
            "7\n",
            "8\n",
            "9\n",
            "10\n"
          ]
        }
      ],
      "source": [
        "numero = int(input(\"numero?\"))\n",
        "\n",
        "while numero <=10:\n",
        "  print (numero)\n",
        "  numero += 1"
      ]
    },
    {
      "cell_type": "code",
      "execution_count": 11,
      "metadata": {
        "colab": {
          "base_uri": "https://localhost:8080/"
        },
        "id": "QIIOfYyifuqH",
        "outputId": "b8b7da6a-b387-49ab-ddb6-4a4f68042a92"
      },
      "outputs": [
        {
          "name": "stdout",
          "output_type": "stream",
          "text": [
            "5\n",
            "10\n",
            "15\n",
            "20\n",
            "25\n",
            "30\n",
            "35\n",
            "40\n",
            "45\n"
          ]
        }
      ],
      "source": [
        "for i in range (5,50,5):\n",
        "  print(i)"
      ]
    },
    {
      "cell_type": "code",
      "execution_count": 12,
      "metadata": {
        "colab": {
          "base_uri": "https://localhost:8080/"
        },
        "id": "L6Ti_jynhlvC",
        "outputId": "b9129f61-4314-4dbd-afe6-53fe7d00937d"
      },
      "outputs": [
        {
          "data": {
            "text/plain": [
              "{1, 12}"
            ]
          },
          "execution_count": 12,
          "metadata": {},
          "output_type": "execute_result"
        }
      ],
      "source": [
        "others = set([1,12])\n",
        "others"
      ]
    },
    {
      "cell_type": "code",
      "execution_count": 13,
      "metadata": {
        "colab": {
          "base_uri": "https://localhost:8080/"
        },
        "id": "UU_4wCsNhwNJ",
        "outputId": "952334bc-161d-468f-ac2a-2bd2c7073f73"
      },
      "outputs": [
        {
          "data": {
            "text/plain": [
              "{1, 2, 3, 4, 5, 7, 8, 12}"
            ]
          },
          "execution_count": 13,
          "metadata": {},
          "output_type": "execute_result"
        }
      ],
      "source": [
        "uniques = {1,2,2,3,4,5,7,8,12}\n",
        "\n",
        "uniques = set(uniques)\n",
        "\n",
        "uniques"
      ]
    },
    {
      "cell_type": "code",
      "execution_count": 14,
      "metadata": {
        "colab": {
          "base_uri": "https://localhost:8080/"
        },
        "id": "JfoiVdYEiEmh",
        "outputId": "56c99872-01aa-4d70-a457-c55963a3f78e"
      },
      "outputs": [
        {
          "data": {
            "text/plain": [
              "False"
            ]
          },
          "execution_count": 14,
          "metadata": {},
          "output_type": "execute_result"
        }
      ],
      "source": [
        "others.issuperset(uniques)"
      ]
    },
    {
      "cell_type": "code",
      "execution_count": 15,
      "metadata": {
        "colab": {
          "base_uri": "https://localhost:8080/"
        },
        "id": "VvFJsHGliQTo",
        "outputId": "0bed4a16-de47-499f-c707-77ad1f9dfe7d"
      },
      "outputs": [
        {
          "data": {
            "text/plain": [
              "True"
            ]
          },
          "execution_count": 15,
          "metadata": {},
          "output_type": "execute_result"
        }
      ],
      "source": [
        "uniques.issuperset(others)"
      ]
    },
    {
      "cell_type": "code",
      "execution_count": 16,
      "metadata": {
        "colab": {
          "base_uri": "https://localhost:8080/"
        },
        "id": "fL_egM3gity5",
        "outputId": "56196ad2-32dc-4683-f7e9-a797f74a0182"
      },
      "outputs": [
        {
          "data": {
            "text/plain": [
              "{'test': 2}"
            ]
          },
          "execution_count": 16,
          "metadata": {},
          "output_type": "execute_result"
        }
      ],
      "source": [
        "key_value = dict()\n",
        "\n",
        "key_value[\"test\"]=2\n",
        "\n",
        "key_value"
      ]
    },
    {
      "cell_type": "code",
      "execution_count": 17,
      "metadata": {
        "colab": {
          "base_uri": "https://localhost:8080/"
        },
        "id": "xlzeptAJi6bQ",
        "outputId": "8e2af705-0ec1-42e1-c802-99e3acb810bf"
      },
      "outputs": [
        {
          "name": "stdout",
          "output_type": "stream",
          "text": [
            "2\n"
          ]
        }
      ],
      "source": [
        "print(key_value.get(\"test\"))"
      ]
    },
    {
      "cell_type": "code",
      "execution_count": 18,
      "metadata": {
        "colab": {
          "base_uri": "https://localhost:8080/"
        },
        "id": "9UVkRFs8kSuf",
        "outputId": "da3d8108-8771-4fbb-9556-838b2573a022"
      },
      "outputs": [
        {
          "data": {
            "text/plain": [
              "(1, 2, 3, 3)"
            ]
          },
          "execution_count": 18,
          "metadata": {},
          "output_type": "execute_result"
        }
      ],
      "source": [
        "tupla = (1,2,3,3)\n",
        "tupla"
      ]
    },
    {
      "cell_type": "markdown",
      "metadata": {
        "id": "3eaUpoosks9a"
      },
      "source": [
        "##Numpy"
      ]
    },
    {
      "cell_type": "code",
      "execution_count": 19,
      "metadata": {
        "id": "NuD5rI7bkh9g"
      },
      "outputs": [],
      "source": [
        "import numpy as np"
      ]
    },
    {
      "cell_type": "code",
      "execution_count": 20,
      "metadata": {
        "id": "SbIiT7_-k9MH"
      },
      "outputs": [],
      "source": [
        "array= np.array([1.,2.,1.5])"
      ]
    },
    {
      "cell_type": "markdown",
      "metadata": {
        "id": "IRPiI3Y_mr59"
      },
      "source": [
        "##Mean es media (promedio)"
      ]
    },
    {
      "cell_type": "code",
      "execution_count": 21,
      "metadata": {
        "colab": {
          "base_uri": "https://localhost:8080/"
        },
        "id": "vqZyeXxOmw2_",
        "outputId": "60dfc691-bf9d-4897-c2d3-99010e9cf762"
      },
      "outputs": [
        {
          "data": {
            "text/plain": [
              "1.5"
            ]
          },
          "execution_count": 21,
          "metadata": {},
          "output_type": "execute_result"
        }
      ],
      "source": [
        "np.mean(array)"
      ]
    },
    {
      "cell_type": "code",
      "execution_count": 22,
      "metadata": {
        "colab": {
          "base_uri": "https://localhost:8080/"
        },
        "id": "wNNlxcBKnAqV",
        "outputId": "9d501016-0f3d-4275-cadb-077544f9e004"
      },
      "outputs": [
        {
          "data": {
            "text/plain": [
              "4.5"
            ]
          },
          "execution_count": 22,
          "metadata": {},
          "output_type": "execute_result"
        }
      ],
      "source": [
        "np.sum(array)"
      ]
    },
    {
      "cell_type": "code",
      "execution_count": 23,
      "metadata": {
        "colab": {
          "base_uri": "https://localhost:8080/"
        },
        "id": "WssTvSc_neol",
        "outputId": "261759f8-07b8-47f4-f151-a50664a8db41"
      },
      "outputs": [
        {
          "data": {
            "text/plain": [
              "array([ True,  True,  True,  True,  True,  True,  True,  True,  True,\n",
              "        True])"
            ]
          },
          "execution_count": 23,
          "metadata": {},
          "output_type": "execute_result"
        }
      ],
      "source": [
        "np.zeros(10) == 0"
      ]
    },
    {
      "cell_type": "code",
      "execution_count": 24,
      "metadata": {
        "colab": {
          "base_uri": "https://localhost:8080/"
        },
        "id": "e_07_FVvpdq8",
        "outputId": "81c9baf1-7988-4bb4-fcad-93d4c6ca8b99"
      },
      "outputs": [
        {
          "data": {
            "text/plain": [
              "array([[1, 2, 3],\n",
              "       [6, 4, 5]])"
            ]
          },
          "execution_count": 24,
          "metadata": {},
          "output_type": "execute_result"
        }
      ],
      "source": [
        "m1 = np.array([[1,2,3],[6,4,5]])\n",
        "m1"
      ]
    },
    {
      "cell_type": "code",
      "execution_count": 25,
      "metadata": {
        "colab": {
          "base_uri": "https://localhost:8080/"
        },
        "id": "HldBrFL_p1rb",
        "outputId": "55ee3fad-bfe0-43ac-d6e7-9587dba22a48"
      },
      "outputs": [
        {
          "data": {
            "text/plain": [
              "array([7, 6, 8])"
            ]
          },
          "execution_count": 25,
          "metadata": {},
          "output_type": "execute_result"
        }
      ],
      "source": [
        "np.sum(m1,0)"
      ]
    },
    {
      "cell_type": "code",
      "execution_count": 26,
      "metadata": {
        "colab": {
          "base_uri": "https://localhost:8080/"
        },
        "id": "YRKK8TAFqDGr",
        "outputId": "0a817c2a-2ddd-476d-f707-580f8cded2ec"
      },
      "outputs": [
        {
          "data": {
            "text/plain": [
              "array([ 6, 15])"
            ]
          },
          "execution_count": 26,
          "metadata": {},
          "output_type": "execute_result"
        }
      ],
      "source": [
        "np.sum(m1,1)"
      ]
    },
    {
      "cell_type": "code",
      "execution_count": 27,
      "metadata": {
        "id": "sX5BCfH5uW6x"
      },
      "outputs": [],
      "source": [
        "import matplotlib.pyplot as plt"
      ]
    },
    {
      "cell_type": "code",
      "execution_count": 28,
      "metadata": {
        "id": "-_60dYk8ugTR"
      },
      "outputs": [],
      "source": [
        "dice = np.random.choice([1,2,3,4,5,6], p=np.ones(6)*(1/6), size=5000)"
      ]
    },
    {
      "cell_type": "code",
      "execution_count": 29,
      "metadata": {
        "colab": {
          "base_uri": "https://localhost:8080/",
          "height": 317
        },
        "id": "kBPyKwFIvFGz",
        "outputId": "98b93cfa-cec2-45ef-f95f-916c49d5cf46"
      },
      "outputs": [
        {
          "data": {
            "text/plain": [
              "(array([798.,   0., 811.,   0., 829.,   0., 856.,   0., 873., 833.]),\n",
              " array([1. , 1.5, 2. , 2.5, 3. , 3.5, 4. , 4.5, 5. , 5.5, 6. ]),\n",
              " <BarContainer object of 10 artists>)"
            ]
          },
          "execution_count": 29,
          "metadata": {},
          "output_type": "execute_result"
        },
        {
          "data": {
            "image/png": "[encoded data removed]",
            "text/plain": [
              "<Figure size 432x288 with 1 Axes>"
            ]
          },
          "metadata": {
            "needs_background": "light"
          },
          "output_type": "display_data"
        }
      ],
      "source": [
        "plt.hist(dice)"
      ]
    },
    {
      "cell_type": "code",
      "execution_count": null,
      "metadata": {
        "id": "4Q9ltU4wvf5B"
      },
      "outputs": [],
      "source": []
    },
    {
      "cell_type": "code",
      "execution_count": 30,
      "metadata": {
        "colab": {
          "base_uri": "https://localhost:8080/"
        },
        "id": "BnReEqYOvuWo",
        "outputId": "174062cb-68b1-4f53-a34f-ba93a48c31b7"
      },
      "outputs": [
        {
          "data": {
            "text/plain": [
              "array([1, 2, 3])"
            ]
          },
          "execution_count": 30,
          "metadata": {},
          "output_type": "execute_result"
        }
      ],
      "source": [
        "cuarenta_y_ocho= np.array([1,2,3])\n",
        "cuarenta_y_ocho"
      ]
    },
    {
      "cell_type": "code",
      "execution_count": 31,
      "metadata": {
        "colab": {
          "base_uri": "https://localhost:8080/",
          "height": 217
        },
        "id": "DwNoKzUDwBpI",
        "outputId": "6829ad42-fe3b-46c3-eb3c-585ab8c0a3fd"
      },
      "outputs": [
        {
          "ename": "IndexError",
          "evalue": "index 3 is out of bounds for axis 0 with size 3",
          "output_type": "error",
          "traceback": [
            "\u001b[1;31m---------------------------------------------------------------------------\u001b[0m",
            "\u001b[1;31mIndexError\u001b[0m                                Traceback (most recent call last)",
            "\u001b[1;32mc:\\Users\\crist\\Documents\\GitHub\\ML\\Práctico_1.ipynb Celda 33\u001b[0m in \u001b[0;36m<cell line: 1>\u001b[1;34m()\u001b[0m\n\u001b[0;32m      <a href='vscode-notebook-cell:/c%3A/Users/crist/Documents/GitHub/ML/Pr%C3%A1ctico_1.ipynb#X44sZmlsZQ%3D%3D?line=0'>1</a>\u001b[0m \u001b[39mfor\u001b[39;00m i \u001b[39min\u001b[39;00m \u001b[39mrange\u001b[39m (\u001b[39m2\u001b[39m,\u001b[39m49\u001b[39m):\n\u001b[1;32m----> <a href='vscode-notebook-cell:/c%3A/Users/crist/Documents/GitHub/ML/Pr%C3%A1ctico_1.ipynb#X44sZmlsZQ%3D%3D?line=1'>2</a>\u001b[0m   cuarenta_y_ocho\u001b[39m.\u001b[39;49mitem(i)\n\u001b[0;32m      <a href='vscode-notebook-cell:/c%3A/Users/crist/Documents/GitHub/ML/Pr%C3%A1ctico_1.ipynb#X44sZmlsZQ%3D%3D?line=3'>4</a>\u001b[0m cuarenta_y_ocho\n",
            "\u001b[1;31mIndexError\u001b[0m: index 3 is out of bounds for axis 0 with size 3"
          ]
        }
      ],
      "source": [
        "for i in range (2,49):\n",
        "  cuarenta_y_ocho.item(i)\n",
        "\n",
        "cuarenta_y_ocho"
      ]
    }
  ],
  "metadata": {
    "colab": {
      "authorship_tag": "ABX9TyPFM8mkdrP7kKQY15PVjF8W",
      "include_colab_link": true,
      "name": "Práctico -1.ipynb",
      "provenance": []
    },
    "kernelspec": {
      "display_name": "Python 3.9.12 ('base')",
      "language": "python",
      "name": "python3"
    },
    "language_info": {
      "codemirror_mode": {
        "name": "ipython",
        "version": 3
      },
      "file_extension": ".py",
      "mimetype": "text/x-python",
      "name": "python",
      "nbconvert_exporter": "python",
      "pygments_lexer": "ipython3",
      "version": "3.9.12"
    },
    "vscode": {
      "interpreter": {
        "hash": "9470b8784b959759c7c699b367576c0be7b48eef9ff58c8b0d64956fc07e03c6"
      }
    }
  },
  "nbformat": 4,
  "nbformat_minor": 0
}
